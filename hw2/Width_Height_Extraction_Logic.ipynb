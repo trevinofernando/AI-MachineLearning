{
  "nbformat": 4,
  "nbformat_minor": 0,
  "metadata": {
    "colab": {
      "name": "Width_Height_Extraction_Logic.ipynb",
      "provenance": [],
      "collapsed_sections": [],
      "include_colab_link": true
    },
    "kernelspec": {
      "name": "python3",
      "display_name": "Python 3"
    }
  },
  "cells": [
    {
      "cell_type": "markdown",
      "metadata": {
        "id": "view-in-github",
        "colab_type": "text"
      },
      "source": [
        "<a href=\"https://colab.research.google.com/github/trevinofernando/AI-MachineLearning/blob/master/hw2/Width_Height_Extraction_Logic.ipynb\" target=\"_parent\"><img src=\"https://colab.research.google.com/assets/colab-badge.svg\" alt=\"Open In Colab\"/></a>"
      ]
    },
    {
      "cell_type": "code",
      "metadata": {
        "id": "IwsfyXuG2-Le",
        "colab_type": "code",
        "colab": {
          "base_uri": "https://localhost:8080/",
          "height": 34
        },
        "outputId": "254e66cb-1fba-4c1e-d5dc-59046cbb2198"
      },
      "source": [
        "import numpy as np\n",
        "\n",
        "#a = np.array(range(9)).reshape((3,3))\n",
        "a = np.array([[\n",
        "                [0,  0,  0, 0],\n",
        "                [0, .2, .5, 0],\n",
        "                [0, .7, .8, 0],\n",
        "                [0,  0,  0, 0]\n",
        "              ],\n",
        "              [\n",
        "                [0,  0,  0, 0],\n",
        "                [0, .1, .3, 0],\n",
        "                [0, .4, .6, 0],\n",
        "                [0,  0, .9, 0]]])\n",
        "imgCount, col, rows = a.shape\n",
        "a.shape"
      ],
      "execution_count": 1,
      "outputs": [
        {
          "output_type": "execute_result",
          "data": {
            "text/plain": [
              "(2, 4, 4)"
            ]
          },
          "metadata": {
            "tags": []
          },
          "execution_count": 1
        }
      ]
    },
    {
      "cell_type": "code",
      "metadata": {
        "id": "tiExzpZX4SGZ",
        "colab_type": "code",
        "colab": {
          "base_uri": "https://localhost:8080/",
          "height": 102
        },
        "outputId": "65cfe4f5-5dfd-4299-e0c9-c141b72276e6"
      },
      "source": [
        "# Get the maximum values of each column\n",
        "maxInColumns = np.amax(a, axis=1)\n",
        "print(maxInColumns)\n",
        "print(\"\")\n",
        "# Get the maximum values of each row\n",
        "maxInRows = np.amax(a, axis=2)\n",
        "print(maxInRows)"
      ],
      "execution_count": 2,
      "outputs": [
        {
          "output_type": "stream",
          "text": [
            "[[0.  0.7 0.8 0. ]\n",
            " [0.  0.4 0.9 0. ]]\n",
            "\n",
            "[[0.  0.5 0.8 0. ]\n",
            " [0.  0.3 0.6 0.9]]\n"
          ],
          "name": "stdout"
        }
      ]
    },
    {
      "cell_type": "code",
      "metadata": {
        "id": "F1xi0S3E6S8K",
        "colab_type": "code",
        "colab": {
          "base_uri": "https://localhost:8080/",
          "height": 221
        },
        "outputId": "8db05131-75c5-4ac3-8af0-1389443ac253"
      },
      "source": [
        "#(xLimits, yLimits)= np.where(a > 0)\n",
        "#print(xLimits, yLimits)\n",
        "(x, y, z)= np.where(a > 0)\n",
        "print(x)\n",
        "print(y)\n",
        "print(z)\n",
        "\n",
        "indices = np.transpose(np.where(a > 0))\n",
        "indices"
      ],
      "execution_count": 3,
      "outputs": [
        {
          "output_type": "stream",
          "text": [
            "[0 0 0 0 1 1 1 1 1]\n",
            "[1 1 2 2 1 1 2 2 3]\n",
            "[1 2 1 2 1 2 1 2 2]\n"
          ],
          "name": "stdout"
        },
        {
          "output_type": "execute_result",
          "data": {
            "text/plain": [
              "array([[0, 1, 1],\n",
              "       [0, 1, 2],\n",
              "       [0, 2, 1],\n",
              "       [0, 2, 2],\n",
              "       [1, 1, 1],\n",
              "       [1, 1, 2],\n",
              "       [1, 2, 1],\n",
              "       [1, 2, 2],\n",
              "       [1, 3, 2]])"
            ]
          },
          "metadata": {
            "tags": []
          },
          "execution_count": 3
        }
      ]
    },
    {
      "cell_type": "code",
      "metadata": {
        "id": "qfpiifHnKB35",
        "colab_type": "code",
        "colab": {
          "base_uri": "https://localhost:8080/",
          "height": 153
        },
        "outputId": "eec393a9-397e-40f5-9474-f6814f9ab7c1"
      },
      "source": [
        "h = np.array([])\n",
        "w = np.array([])\n",
        "for i in range(imgCount):\n",
        "  img = np.where(x == i)[0]\n",
        "  print(img)\n",
        "  h = np.concatenate((h, np.atleast_1d(y[img[-1]] - y[img[0]] + 1)), axis = 0)\n",
        "  w = np.concatenate((w, np.atleast_1d(z[img[-1]] - z[img[0]] + 1)), axis = 0)\n",
        "  print(h)\n",
        "  print(w)\n",
        "  print(h.shape)"
      ],
      "execution_count": 4,
      "outputs": [
        {
          "output_type": "stream",
          "text": [
            "[0 1 2 3]\n",
            "[2.]\n",
            "[2.]\n",
            "(1,)\n",
            "[4 5 6 7 8]\n",
            "[2. 3.]\n",
            "[2. 2.]\n",
            "(2,)\n"
          ],
          "name": "stdout"
        }
      ]
    },
    {
      "cell_type": "code",
      "metadata": {
        "id": "ayn3rndsbblM",
        "colab_type": "code",
        "colab": {
          "base_uri": "https://localhost:8080/",
          "height": 221
        },
        "outputId": "fc53a938-a62c-48c6-c4b2-3de3add9f0b0"
      },
      "source": [
        "h = np.array([])\n",
        "w = np.array([])\n",
        "for i in range(imgCount):\n",
        "  img = np.where(x == i)[0]\n",
        "  print(img)\n",
        "  h = np.append(h, y[img[-1]] - y[img[0]] + 1)\n",
        "  w = np.append(w, z[img[-1]] - z[img[0]] + 1)\n",
        "  print(h)\n",
        "  print(w)\n",
        "  print(h.shape)\n",
        "h = h.reshape(imgCount, 1)\n",
        "w = w.reshape(imgCount, 1)\n",
        "print(h)\n",
        "print(w)"
      ],
      "execution_count": 5,
      "outputs": [
        {
          "output_type": "stream",
          "text": [
            "[0 1 2 3]\n",
            "[2.]\n",
            "[2.]\n",
            "(1,)\n",
            "[4 5 6 7 8]\n",
            "[2. 3.]\n",
            "[2. 2.]\n",
            "(2,)\n",
            "[[2.]\n",
            " [3.]]\n",
            "[[2.]\n",
            " [2.]]\n"
          ],
          "name": "stdout"
        }
      ]
    }
  ]
}