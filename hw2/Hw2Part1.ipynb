{
  "nbformat": 4,
  "nbformat_minor": 0,
  "metadata": {
    "colab": {
      "name": "Hw2Part1.ipynb",
      "provenance": [],
      "collapsed_sections": [
        "8aAmRFnv-Gjh",
        "sxd9FUzUJObc",
        "xNW68iWkG3Md",
        "M37dpY2lHhzr"
      ],
      "include_colab_link": true
    },
    "kernelspec": {
      "name": "python3",
      "display_name": "Python 3"
    },
    "accelerator": "GPU"
  },
  "cells": [
    {
      "cell_type": "markdown",
      "metadata": {
        "id": "view-in-github",
        "colab_type": "text"
      },
      "source": [
        "<a href=\"https://colab.research.google.com/github/trevinofernando/AI-MachineLearning/blob/master/hw2/Hw2Part1.ipynb\" target=\"_parent\"><img src=\"https://colab.research.google.com/assets/colab-badge.svg\" alt=\"Open In Colab\"/></a>"
      ]
    },
    {
      "cell_type": "markdown",
      "metadata": {
        "id": "mWfJPwih9TIL",
        "colab_type": "text"
      },
      "source": [
        "#Single Dense Layer Neural Network + Handcrafted Features\n",
        "####  For the MNIST digit classificiation problem"
      ]
    },
    {
      "cell_type": "markdown",
      "metadata": {
        "id": "8aAmRFnv-Gjh",
        "colab_type": "text"
      },
      "source": [
        "##Loading and Cleaning Data"
      ]
    },
    {
      "cell_type": "code",
      "metadata": {
        "id": "3x_LPvG77Wsg",
        "colab_type": "code",
        "outputId": "bd61f2fe-d743-4e33-f349-c3c707be7a7a",
        "colab": {
          "base_uri": "https://localhost:8080/",
          "height": 0
        }
      },
      "source": [
        "%tensorflow_version 1.x\n",
        "import tensorflow as tf\n",
        "from keras import models\n",
        "from keras import layers\n",
        "import numpy as np\n",
        "import matplotlib.pyplot as plt\n",
        "\n",
        "#28x28 images of hand written digits from 0 to 9\n",
        "mnist = tf.keras.datasets.mnist\n",
        "\n",
        "#Extract images and labels from mnist as 2 tuples, one for training and one for testing\n",
        "(train_images_original, train_labels_original), (test_images_original, test_labels_original) = mnist.load_data()\n",
        "\n",
        "#RE-shape data to be a vectors instead of img matices\n",
        "train_images = train_images_original.reshape((60000, 28 * 28))\n",
        "test_images = test_images_original.reshape((10000, 28 * 28))\n",
        "\n",
        "#Re-scale data to be from 0 to 1\n",
        "train_images = train_images.astype('float32') / 255\n",
        "test_images = test_images.astype('float32') / 255"
      ],
      "execution_count": 1,
      "outputs": [
        {
          "output_type": "stream",
          "text": [
            "Using TensorFlow backend.\n"
          ],
          "name": "stderr"
        },
        {
          "output_type": "stream",
          "text": [
            "Downloading data from https://storage.googleapis.com/tensorflow/tf-keras-datasets/mnist.npz\n",
            "11493376/11490434 [==============================] - 0s 0us/step\n"
          ],
          "name": "stdout"
        }
      ]
    },
    {
      "cell_type": "markdown",
      "metadata": {
        "id": "EFs-IlKUj2RH",
        "colab_type": "text"
      },
      "source": [
        "###Progress Bar GUI"
      ]
    },
    {
      "cell_type": "code",
      "metadata": {
        "id": "g8yFQA0Qj6-z",
        "colab_type": "code",
        "outputId": "cc5f1566-6f67-49d2-c882-07e79b838e53",
        "colab": {
          "base_uri": "https://localhost:8080/",
          "height": 0
        }
      },
      "source": [
        "from IPython.display import HTML, display\n",
        "import time\n",
        "\n",
        "def progress(value, max=100):\n",
        "    return HTML(\"\"\"\n",
        "        <progress\n",
        "            value='{value}'\n",
        "            max='{max}',\n",
        "            style='width: 100%'\n",
        "        >\n",
        "            {value}\n",
        "        </progress>\n",
        "    \"\"\".format(value=value, max=max))\n",
        "\n",
        "#Demostration of Progress Bar\n",
        "out = display(progress(0, 100), display_id=True)\n",
        "for i in range(101):\n",
        "  out.update(progress(i, 100))"
      ],
      "execution_count": 2,
      "outputs": [
        {
          "output_type": "display_data",
          "data": {
            "text/html": [
              "\n",
              "        <progress\n",
              "            value='100'\n",
              "            max='100',\n",
              "            style='width: 100%'\n",
              "        >\n",
              "            100\n",
              "        </progress>\n",
              "    "
            ],
            "text/plain": [
              "<IPython.core.display.HTML object>"
            ]
          },
          "metadata": {
            "tags": []
          }
        }
      ]
    },
    {
      "cell_type": "markdown",
      "metadata": {
        "id": "mrQOhaWP-hL_",
        "colab_type": "text"
      },
      "source": [
        "#Handcrafted Features"
      ]
    },
    {
      "cell_type": "markdown",
      "metadata": {
        "id": "ZCgcJL_N-Vce",
        "colab_type": "text"
      },
      "source": [
        "##Calculating Height and Width of each digits"
      ]
    },
    {
      "cell_type": "markdown",
      "metadata": {
        "id": "yhCpUIgJm9aY",
        "colab_type": "text"
      },
      "source": [
        "####Extracting Features for Train Dataset"
      ]
    },
    {
      "cell_type": "code",
      "metadata": {
        "id": "XkqYD4zM-1UT",
        "colab_type": "code",
        "outputId": "199af397-5839-4aa9-d708-19b18bf3b27e",
        "colab": {
          "base_uri": "https://localhost:8080/",
          "height": 221
        }
      },
      "source": [
        "# Extract Dimensions of input\n",
        "(img_count, col_size, rows_size) = train_images_original.shape\n",
        "\n",
        "#Get index of the first Non-Zero pixels in the image\n",
        "(img_index, col_of_positives, rows_of_positives)= np.where(train_images_original > 0)\n",
        "\n",
        "#initialize empty feature vectors\n",
        "train_height = np.array([])\n",
        "train_width = np.array([])\n",
        "\n",
        "#Set Empty Progress Bar \n",
        "out = display(progress(0, 100), display_id=True)\n",
        "\n",
        "#loop thru all images\n",
        "for i in range(img_count):\n",
        "  out.update(progress(i, img_count))\n",
        "\n",
        "  #extract all images from mixed matrix\n",
        "  img = np.where(img_index == i)[0]\n",
        "\n",
        "  #calculate height and width of digit by substracting the \n",
        "  #first and last non-white pixel horizontaly and vertically, \n",
        "  #then add one for the index 0 offset\n",
        "  train_height = np.append(train_height,  abs(col_of_positives[img[-1]] - col_of_positives[img[0]]) + 1)\n",
        "  train_width = np.append(train_width, abs(rows_of_positives[img[-1]] - rows_of_positives[img[0]]) + 1)\n",
        "print(\"Feature Extractione Done!\")\n",
        "\n",
        "#Re-shape vectors to be be compatible for concatenation with the dataset\n",
        "train_height = train_height.reshape(img_count, 1)\n",
        "train_width = train_width.reshape(img_count, 1)\n",
        "\n",
        "#Re-scale data to be from 0 to 1\n",
        "train_height = train_height.astype('float32') / col_size\n",
        "train_width = train_width.astype('float32') / rows_size\n",
        "\n",
        "print(\"Vector Shape:\")\n",
        "print(train_height.shape)\n",
        "print(\"Max height value\")\n",
        "print(np.max(train_height, axis=0))\n",
        "print(\"Min height value\")\n",
        "print(np.min(train_height, axis=0))\n",
        "print(\"Max width value\")\n",
        "print(np.max(train_width, axis=0))\n",
        "print(\"Min width value\")\n",
        "print(np.min(train_width, axis=0))"
      ],
      "execution_count": 3,
      "outputs": [
        {
          "output_type": "display_data",
          "data": {
            "text/html": [
              "\n",
              "        <progress\n",
              "            value='59999'\n",
              "            max='60000',\n",
              "            style='width: 100%'\n",
              "        >\n",
              "            59999\n",
              "        </progress>\n",
              "    "
            ],
            "text/plain": [
              "<IPython.core.display.HTML object>"
            ]
          },
          "metadata": {
            "tags": []
          }
        },
        {
          "output_type": "stream",
          "text": [
            "Feature Extractione Done!\n",
            "Vector Shape:\n",
            "(60000, 1)\n",
            "Max height value\n",
            "[0.71428573]\n",
            "Min height value\n",
            "[0.32142857]\n",
            "Max width value\n",
            "[0.71428573]\n",
            "Min width value\n",
            "[0.03571429]\n"
          ],
          "name": "stdout"
        }
      ]
    },
    {
      "cell_type": "markdown",
      "metadata": {
        "id": "iodIUboFnEJD",
        "colab_type": "text"
      },
      "source": [
        "####Extracting Features for Test Dataset"
      ]
    },
    {
      "cell_type": "code",
      "metadata": {
        "id": "GjFHVszQm7-Y",
        "colab_type": "code",
        "colab": {
          "base_uri": "https://localhost:8080/",
          "height": 221
        },
        "outputId": "3b92b685-eacf-4c8b-bb1f-1b33aa660378"
      },
      "source": [
        "# Extract Dimensions of input\n",
        "(img_count, col_size, rows_size) = test_images_original.shape\n",
        "\n",
        "#Get index of the first Non-Zero pixels in the image\n",
        "(img_index, col_of_positives, rows_of_positives)= np.where(test_images_original > 0)\n",
        "\n",
        "#initialize empty feature vectors\n",
        "test_height = np.array([])\n",
        "test_width = np.array([])\n",
        "\n",
        "#Set Empty Progress Bar \n",
        "out = display(progress(0, 100), display_id=True)\n",
        "\n",
        "#loop thru all images\n",
        "for i in range(img_count):\n",
        "  out.update(progress(i, img_count))\n",
        "\n",
        "  #extract all images from mixed matrix\n",
        "  img = np.where(img_index == i)[0]\n",
        "\n",
        "  #calculate height and width of digit by substracting the \n",
        "  #first and last non-white pixel horizontaly and vertically, \n",
        "  #then add one for the index 0 offset\n",
        "  test_height = np.append(test_height,  abs(col_of_positives[img[-1]] - col_of_positives[img[0]]) + 1)\n",
        "  test_width = np.append(test_width, abs(rows_of_positives[img[-1]] - rows_of_positives[img[0]]) + 1)\n",
        "print(\"Feature Extractione Done!\")\n",
        "\n",
        "#Re-shape vectors to be be compatible for concatenation with the dataset\n",
        "test_height = test_height.reshape(img_count, 1)\n",
        "test_width = test_width.reshape(img_count, 1)\n",
        "\n",
        "#Re-scale data to be from 0 to 1\n",
        "test_height = test_height.astype('float32') / col_size\n",
        "test_width = test_width.astype('float32') / rows_size\n",
        "\n",
        "print(\"Vector Shape:\")\n",
        "print(test_height.shape)\n",
        "print(\"Max height value\")\n",
        "print(np.max(test_height, axis=0))\n",
        "print(\"Min height value\")\n",
        "print(np.min(test_height, axis=0))\n",
        "print(\"Max width value\")\n",
        "print(np.max(test_width, axis=0))\n",
        "print(\"Min width value\")\n",
        "print(np.min(test_width, axis=0))"
      ],
      "execution_count": 4,
      "outputs": [
        {
          "output_type": "display_data",
          "data": {
            "text/html": [
              "\n",
              "        <progress\n",
              "            value='9999'\n",
              "            max='10000',\n",
              "            style='width: 100%'\n",
              "        >\n",
              "            9999\n",
              "        </progress>\n",
              "    "
            ],
            "text/plain": [
              "<IPython.core.display.HTML object>"
            ]
          },
          "metadata": {
            "tags": []
          }
        },
        {
          "output_type": "stream",
          "text": [
            "Feature Extractione Done!\n",
            "Vector Shape:\n",
            "(10000, 1)\n",
            "Max height value\n",
            "[0.71428573]\n",
            "Min height value\n",
            "[0.35714287]\n",
            "Max width value\n",
            "[0.71428573]\n",
            "Min width value\n",
            "[0.03571429]\n"
          ],
          "name": "stdout"
        }
      ]
    },
    {
      "cell_type": "markdown",
      "metadata": {
        "id": "V01ikCVa-owF",
        "colab_type": "text"
      },
      "source": [
        "###Adding Handcrafted Feature to the data"
      ]
    },
    {
      "cell_type": "markdown",
      "metadata": {
        "id": "t4NoCI9WoIc_",
        "colab_type": "text"
      },
      "source": [
        "####Train Dataset"
      ]
    },
    {
      "cell_type": "code",
      "metadata": {
        "id": "LmFp5vBSuauM",
        "colab_type": "code",
        "colab": {
          "base_uri": "https://localhost:8080/",
          "height": 136
        },
        "outputId": "a372ccc8-aabb-4e87-b7e0-d4d52773071e"
      },
      "source": [
        "print(train_images.shape)\n",
        "print(\"+\")\n",
        "print(train_height.shape)\n",
        "print(\"+\")\n",
        "print(train_width.shape)\n",
        "\n",
        "#add the 2 new features to the end of the flatten image vector of the train dataset\n",
        "train_images = np.concatenate((train_images, train_height), axis = 1)\n",
        "train_images = np.concatenate((train_images, train_width), axis = 1)\n",
        "\n",
        "print(\"=\")\n",
        "print(train_images.shape)"
      ],
      "execution_count": 5,
      "outputs": [
        {
          "output_type": "stream",
          "text": [
            "(60000, 784)\n",
            "+\n",
            "(60000, 1)\n",
            "+\n",
            "(60000, 1)\n",
            "=\n",
            "(60000, 786)\n"
          ],
          "name": "stdout"
        }
      ]
    },
    {
      "cell_type": "markdown",
      "metadata": {
        "id": "8-Wn-w99oNFV",
        "colab_type": "text"
      },
      "source": [
        "####Test Dataset"
      ]
    },
    {
      "cell_type": "code",
      "metadata": {
        "id": "5XTQ1L8unjjs",
        "colab_type": "code",
        "colab": {
          "base_uri": "https://localhost:8080/",
          "height": 136
        },
        "outputId": "b268b29d-c785-4b0a-8f90-08c34eef746b"
      },
      "source": [
        "print(test_images.shape)\n",
        "print(\"+\")\n",
        "print(test_height.shape)\n",
        "print(\"+\")\n",
        "print(test_width.shape)\n",
        "\n",
        "#add the 2 new features to the end of the flatten image vector of the train dataset\n",
        "test_images = np.concatenate((test_images, test_height), axis = 1)\n",
        "test_images = np.concatenate((test_images, test_width), axis = 1)\n",
        "\n",
        "print(\"=\")\n",
        "print(test_images.shape)"
      ],
      "execution_count": 6,
      "outputs": [
        {
          "output_type": "stream",
          "text": [
            "(10000, 784)\n",
            "+\n",
            "(10000, 1)\n",
            "+\n",
            "(10000, 1)\n",
            "=\n",
            "(10000, 786)\n"
          ],
          "name": "stdout"
        }
      ]
    },
    {
      "cell_type": "markdown",
      "metadata": {
        "id": "sxd9FUzUJObc",
        "colab_type": "text"
      },
      "source": [
        "# Categorically Encode the Labels"
      ]
    },
    {
      "cell_type": "code",
      "metadata": {
        "id": "0bLhB_F1JUtp",
        "colab_type": "code",
        "colab": {}
      },
      "source": [
        "from keras.utils import to_categorical\n",
        "#Else we wolud have to use sparse_categorical_crossentropy\n",
        "train_labels = to_categorical(train_labels_original)\n",
        "test_labels = to_categorical(test_labels_original)"
      ],
      "execution_count": 0,
      "outputs": []
    },
    {
      "cell_type": "markdown",
      "metadata": {
        "id": "IGsRiskeFuiB",
        "colab_type": "text"
      },
      "source": [
        "#Network Architecture"
      ]
    },
    {
      "cell_type": "code",
      "metadata": {
        "id": "EOC5AF_7FnKs",
        "colab_type": "code",
        "colab": {
          "base_uri": "https://localhost:8080/",
          "height": 343
        },
        "outputId": "80e17c43-f3a4-4fca-b1ec-1967b9f4161f"
      },
      "source": [
        "model = models.Sequential()\n",
        "\n",
        "#28*28 is the imgSize and +2 for the 2 hancrafted features\n",
        "model.add(layers.Dense(512, activation = tf.nn.relu, input_shape=(28 * 28 + 2,))) #Hidden layer using reLu(x) = max(0,x).\n",
        "model.add(layers.Dense(10, activation = tf.nn.softmax)) #Output layer needs softmax with 10 neurons for One hot encoding\n",
        "model.summary()"
      ],
      "execution_count": 8,
      "outputs": [
        {
          "output_type": "stream",
          "text": [
            "WARNING:tensorflow:From /usr/local/lib/python3.6/dist-packages/keras/backend/tensorflow_backend.py:66: The name tf.get_default_graph is deprecated. Please use tf.compat.v1.get_default_graph instead.\n",
            "\n",
            "WARNING:tensorflow:From /usr/local/lib/python3.6/dist-packages/keras/backend/tensorflow_backend.py:541: The name tf.placeholder is deprecated. Please use tf.compat.v1.placeholder instead.\n",
            "\n",
            "WARNING:tensorflow:From /usr/local/lib/python3.6/dist-packages/keras/backend/tensorflow_backend.py:4432: The name tf.random_uniform is deprecated. Please use tf.random.uniform instead.\n",
            "\n",
            "Model: \"sequential_1\"\n",
            "_________________________________________________________________\n",
            "Layer (type)                 Output Shape              Param #   \n",
            "=================================================================\n",
            "dense_1 (Dense)              (None, 512)               402944    \n",
            "_________________________________________________________________\n",
            "dense_2 (Dense)              (None, 10)                5130      \n",
            "=================================================================\n",
            "Total params: 408,074\n",
            "Trainable params: 408,074\n",
            "Non-trainable params: 0\n",
            "_________________________________________________________________\n"
          ],
          "name": "stdout"
        }
      ]
    },
    {
      "cell_type": "markdown",
      "metadata": {
        "id": "-1qkd2LcGyvd",
        "colab_type": "text"
      },
      "source": [
        "#Compiling Model"
      ]
    },
    {
      "cell_type": "code",
      "metadata": {
        "id": "NO50whEnF5xB",
        "colab_type": "code",
        "colab": {
          "base_uri": "https://localhost:8080/",
          "height": 105
        },
        "outputId": "58e12f2d-7459-4bca-8587-27b94c9bdf59"
      },
      "source": [
        "model.compile( optimizer='rmsprop', #Root Mean Square Propogation\n",
        "              loss='categorical_crossentropy', #For one-hot encoded output\n",
        "              metrics=['accuracy'])\n",
        "# Other options: optimer='adam', loss='sparse_categorical_crossentropy'"
      ],
      "execution_count": 9,
      "outputs": [
        {
          "output_type": "stream",
          "text": [
            "WARNING:tensorflow:From /usr/local/lib/python3.6/dist-packages/keras/optimizers.py:793: The name tf.train.Optimizer is deprecated. Please use tf.compat.v1.train.Optimizer instead.\n",
            "\n",
            "WARNING:tensorflow:From /usr/local/lib/python3.6/dist-packages/keras/backend/tensorflow_backend.py:3576: The name tf.log is deprecated. Please use tf.math.log instead.\n",
            "\n"
          ],
          "name": "stdout"
        }
      ]
    },
    {
      "cell_type": "markdown",
      "metadata": {
        "id": "xNW68iWkG3Md",
        "colab_type": "text"
      },
      "source": [
        "#Training Model"
      ]
    },
    {
      "cell_type": "code",
      "metadata": {
        "id": "s9kbIUT1GxWp",
        "colab_type": "code",
        "colab": {
          "base_uri": "https://localhost:8080/",
          "height": 0
        },
        "outputId": "0fc52aa6-63ea-4c5f-f283-e91e9b8de519"
      },
      "source": [
        "#Set number of epochs\n",
        "epochs = 10\n",
        "#Save training history for analysis purposes later\n",
        "history = model.fit(train_images, \n",
        "                    train_labels, \n",
        "                    epochs = epochs,\n",
        "                    batch_size=128, \n",
        "                    validation_data=(test_images, test_labels))"
      ],
      "execution_count": 10,
      "outputs": [
        {
          "output_type": "stream",
          "text": [
            "WARNING:tensorflow:From /usr/local/lib/python3.6/dist-packages/tensorflow_core/python/ops/math_grad.py:1424: where (from tensorflow.python.ops.array_ops) is deprecated and will be removed in a future version.\n",
            "Instructions for updating:\n",
            "Use tf.where in 2.0, which has the same broadcast rule as np.where\n",
            "WARNING:tensorflow:From /usr/local/lib/python3.6/dist-packages/keras/backend/tensorflow_backend.py:1033: The name tf.assign_add is deprecated. Please use tf.compat.v1.assign_add instead.\n",
            "\n",
            "WARNING:tensorflow:From /usr/local/lib/python3.6/dist-packages/keras/backend/tensorflow_backend.py:1020: The name tf.assign is deprecated. Please use tf.compat.v1.assign instead.\n",
            "\n",
            "WARNING:tensorflow:From /usr/local/lib/python3.6/dist-packages/keras/backend/tensorflow_backend.py:3005: The name tf.Session is deprecated. Please use tf.compat.v1.Session instead.\n",
            "\n",
            "Train on 60000 samples, validate on 10000 samples\n",
            "Epoch 1/10\n",
            "WARNING:tensorflow:From /usr/local/lib/python3.6/dist-packages/keras/backend/tensorflow_backend.py:190: The name tf.get_default_session is deprecated. Please use tf.compat.v1.get_default_session instead.\n",
            "\n",
            "WARNING:tensorflow:From /usr/local/lib/python3.6/dist-packages/keras/backend/tensorflow_backend.py:197: The name tf.ConfigProto is deprecated. Please use tf.compat.v1.ConfigProto instead.\n",
            "\n",
            "WARNING:tensorflow:From /usr/local/lib/python3.6/dist-packages/keras/backend/tensorflow_backend.py:207: The name tf.global_variables is deprecated. Please use tf.compat.v1.global_variables instead.\n",
            "\n",
            "WARNING:tensorflow:From /usr/local/lib/python3.6/dist-packages/keras/backend/tensorflow_backend.py:216: The name tf.is_variable_initialized is deprecated. Please use tf.compat.v1.is_variable_initialized instead.\n",
            "\n",
            "WARNING:tensorflow:From /usr/local/lib/python3.6/dist-packages/keras/backend/tensorflow_backend.py:223: The name tf.variables_initializer is deprecated. Please use tf.compat.v1.variables_initializer instead.\n",
            "\n",
            "60000/60000 [==============================] - 6s 102us/step - loss: 0.2589 - acc: 0.9247 - val_loss: 0.1350 - val_acc: 0.9602\n",
            "Epoch 2/10\n",
            "60000/60000 [==============================] - 2s 26us/step - loss: 0.1063 - acc: 0.9679 - val_loss: 0.1031 - val_acc: 0.9676\n",
            "Epoch 3/10\n",
            "60000/60000 [==============================] - 1s 24us/step - loss: 0.0691 - acc: 0.9793 - val_loss: 0.0743 - val_acc: 0.9765\n",
            "Epoch 4/10\n",
            "60000/60000 [==============================] - 1s 25us/step - loss: 0.0501 - acc: 0.9850 - val_loss: 0.0726 - val_acc: 0.9776\n",
            "Epoch 5/10\n",
            "60000/60000 [==============================] - 1s 25us/step - loss: 0.0372 - acc: 0.9887 - val_loss: 0.0727 - val_acc: 0.9787\n",
            "Epoch 6/10\n",
            "60000/60000 [==============================] - 1s 25us/step - loss: 0.0285 - acc: 0.9915 - val_loss: 0.0627 - val_acc: 0.9825\n",
            "Epoch 7/10\n",
            "60000/60000 [==============================] - 1s 24us/step - loss: 0.0222 - acc: 0.9935 - val_loss: 0.0638 - val_acc: 0.9812\n",
            "Epoch 8/10\n",
            "60000/60000 [==============================] - 2s 25us/step - loss: 0.0169 - acc: 0.9951 - val_loss: 0.0682 - val_acc: 0.9821\n",
            "Epoch 9/10\n",
            "60000/60000 [==============================] - 1s 24us/step - loss: 0.0128 - acc: 0.9963 - val_loss: 0.0712 - val_acc: 0.9813\n",
            "Epoch 10/10\n",
            "60000/60000 [==============================] - 1s 24us/step - loss: 0.0102 - acc: 0.9972 - val_loss: 0.0746 - val_acc: 0.9795\n"
          ],
          "name": "stdout"
        }
      ]
    },
    {
      "cell_type": "markdown",
      "metadata": {
        "id": "M37dpY2lHhzr",
        "colab_type": "text"
      },
      "source": [
        "#Visualization"
      ]
    },
    {
      "cell_type": "markdown",
      "metadata": {
        "id": "vEm-BoXwHlu0",
        "colab_type": "text"
      },
      "source": [
        "### Training and Test Loss"
      ]
    },
    {
      "cell_type": "code",
      "metadata": {
        "id": "gOn5yrOWADkt",
        "colab_type": "code",
        "colab": {}
      },
      "source": [
        "#Extract history from model and save it as a dictionary\n",
        "history_dict = history.history\n",
        "#Extract the train loss on each epoch\n",
        "loss_values = history_dict['loss']\n",
        "#Extract the test loss on each epoch\n",
        "test_loss_values = history_dict['val_loss']\n",
        "#Set range for graphing purposes (1 to epochs+1) not inclusive\n",
        "epochs_range = range(1, epochs + 1)"
      ],
      "execution_count": 0,
      "outputs": []
    },
    {
      "cell_type": "code",
      "metadata": {
        "id": "QiXl70I6HKiZ",
        "colab_type": "code",
        "colab": {
          "base_uri": "https://localhost:8080/",
          "height": 0
        },
        "outputId": "f738585b-1f93-4b7b-e140-deada587b0bd"
      },
      "source": [
        "plt.plot(epochs_range, loss_values, 'bo', label='Training loss')\n",
        "plt.plot(epochs_range, test_loss_values, 'ro', label='Test loss')\n",
        "plt.title('Training and test loss')\n",
        "plt.xlabel('Epochs')\n",
        "plt.ylabel('Loss')\n",
        "plt.legend()\n",
        "plt.show()"
      ],
      "execution_count": 12,
      "outputs": [
        {
          "output_type": "display_data",
          "data": {
            "image/png": "[encoded data removed]",
            "text/plain": [
              "<Figure size 432x288 with 1 Axes>"
            ]
          },
          "metadata": {
            "tags": []
          }
        }
      ]
    },
    {
      "cell_type": "markdown",
      "metadata": {
        "id": "24eprpA9HtIJ",
        "colab_type": "text"
      },
      "source": [
        "### Training and Test Accuracy"
      ]
    },
    {
      "cell_type": "code",
      "metadata": {
        "id": "QbM2JHlPHz3x",
        "colab_type": "code",
        "colab": {}
      },
      "source": [
        "acc_values = history_dict['acc']\n",
        "test_acc_values = history_dict['val_acc']"
      ],
      "execution_count": 0,
      "outputs": []
    },
    {
      "cell_type": "code",
      "metadata": {
        "id": "c-0DtK59H1mF",
        "colab_type": "code",
        "colab": {
          "base_uri": "https://localhost:8080/",
          "height": 0
        },
        "outputId": "ee677dc0-5230-46d8-99c2-2b11665bc561"
      },
      "source": [
        "plt.plot(epochs_range, acc_values, 'bo', label='Training accuracy')\n",
        "plt.plot(epochs_range, test_acc_values, 'ro', label='Test accuracy')\n",
        "plt.title('Training and test accuracy')\n",
        "plt.xlabel('Epochs')\n",
        "plt.ylabel('Accuracy')\n",
        "plt.legend()\n",
        "plt.show()"
      ],
      "execution_count": 14,
      "outputs": [
        {
          "output_type": "display_data",
          "data": {
            "image/png": "[encoded data removed]",
            "text/plain": [
              "<Figure size 432x288 with 1 Axes>"
            ]
          },
          "metadata": {
            "tags": []
          }
        }
      ]
    },
    {
      "cell_type": "markdown",
      "metadata": {
        "id": "2BqAM3snBaY5",
        "colab_type": "text"
      },
      "source": [
        "##Save Model"
      ]
    },
    {
      "cell_type": "code",
      "metadata": {
        "id": "kL7Jweg0BMHv",
        "colab_type": "code",
        "colab": {}
      },
      "source": [
        "model.save('Mnist_Height_Width.hw2')"
      ],
      "execution_count": 0,
      "outputs": []
    },
    {
      "cell_type": "markdown",
      "metadata": {
        "id": "t4QxZYRYBgQg",
        "colab_type": "text"
      },
      "source": [
        "##Load Model"
      ]
    },
    {
      "cell_type": "code",
      "metadata": {
        "id": "GHnx_Yt8Bina",
        "colab_type": "code",
        "colab": {
          "base_uri": "https://localhost:8080/",
          "height": 0
        },
        "outputId": "f7ef66d4-9ca1-491d-9f4b-2a90c33e64d0"
      },
      "source": [
        "old_model = tf.keras.models.load_model('Mnist_Height_Width.hw2')"
      ],
      "execution_count": 16,
      "outputs": [
        {
          "output_type": "stream",
          "text": [
            "WARNING:tensorflow:From /usr/local/lib/python3.6/dist-packages/tensorflow_core/python/ops/resource_variable_ops.py:1630: calling BaseResourceVariable.__init__ (from tensorflow.python.ops.resource_variable_ops) with constraint is deprecated and will be removed in a future version.\n",
            "Instructions for updating:\n",
            "If using Keras pass *_constraint arguments to layers.\n"
          ],
          "name": "stdout"
        }
      ]
    },
    {
      "cell_type": "markdown",
      "metadata": {
        "id": "dR_PmaukUaAW",
        "colab_type": "text"
      },
      "source": [
        "#Missclassified digits"
      ]
    },
    {
      "cell_type": "code",
      "metadata": {
        "id": "nWVYRBlLB5nK",
        "colab_type": "code",
        "colab": {
          "base_uri": "https://localhost:8080/",
          "height": 34
        },
        "outputId": "4a507362-7ca4-4263-b38e-1e0c4bf2971b"
      },
      "source": [
        "#Test model on Test dataset\n",
        "predictions = old_model.predict([test_images])\n",
        "#Get predictions by extracting the max on the One Hot Encoded Vector\n",
        "predictions = np.argmax(predictions, axis=1) \n",
        "#Cast values to make sure it's uint8\n",
        "predictions = predictions.astype('uint8')\n",
        "print(predictions)"
      ],
      "execution_count": 17,
      "outputs": [
        {
          "output_type": "stream",
          "text": [
            "[7 2 1 ... 4 5 6]\n"
          ],
          "name": "stdout"
        }
      ]
    },
    {
      "cell_type": "code",
      "metadata": {
        "id": "MMV4oFHfLlH7",
        "colab_type": "code",
        "colab": {
          "base_uri": "https://localhost:8080/",
          "height": 34
        },
        "outputId": "93bb59ce-e0b6-407e-f5ba-0295f04bd43d"
      },
      "source": [
        "(numLabels,) = test_labels_original.shape\n",
        "#Compare predicted labels against real labels and extract the bad predictions\n",
        "wrong_indices = [i for i in range(numLabels) if predictions[i] != test_labels_original[i]]\n",
        "# The quantity below is equal to the test accuracy reported by the network fit method.\n",
        "print(1.0 - len(wrong_indices) / numLabels)"
      ],
      "execution_count": 18,
      "outputs": [
        {
          "output_type": "stream",
          "text": [
            "0.9795\n"
          ],
          "name": "stdout"
        }
      ]
    },
    {
      "cell_type": "code",
      "metadata": {
        "id": "D9bXY9rUL5B1",
        "colab_type": "code",
        "colab": {
          "base_uri": "https://localhost:8080/",
          "height": 1000
        },
        "outputId": "0df32068-8169-4496-bdae-811e94991015"
      },
      "source": [
        "# This show the ith misclassified digit. \n",
        "numImages = 10\n",
        "for i in range(numImages):\n",
        "  wrong_index = wrong_indices[(int)(i * len(wrong_indices) / numImages)]\n",
        "  print(\"Predicted \")\n",
        "  print(predictions[wrong_index])\n",
        "  print(\"True label \")\n",
        "  print(test_labels_original[wrong_index])\n",
        "  plt.imshow(test_images_original[wrong_index], cmap = plt.cm.binary)\n",
        "  plt.show()"
      ],
      "execution_count": 19,
      "outputs": [
        {
          "output_type": "stream",
          "text": [
            "Predicted \n",
            "8\n",
            "True label \n",
            "2\n"
          ],
          "name": "stdout"
        },
        {
          "output_type": "display_data",
          "data": {
            "image/png": "[encoded data removed]",
            "text/plain": [
              "<Figure size 432x288 with 1 Axes>"
            ]
          },
          "metadata": {
            "tags": []
          }
        },
        {
          "output_type": "stream",
          "text": [
            "Predicted \n",
            "9\n",
            "True label \n",
            "8\n"
          ],
          "name": "stdout"
        },
        {
          "output_type": "display_data",
          "data": {
            "image/png": "[encoded data removed]",
            "text/plain": [
              "<Figure size 432x288 with 1 Axes>"
            ]
          },
          "metadata": {
            "tags": []
          }
        },
        {
          "output_type": "stream",
          "text": [
            "Predicted \n",
            "9\n",
            "True label \n",
            "7\n"
          ],
          "name": "stdout"
        },
        {
          "output_type": "display_data",
          "data": {
            "image/png": "[encoded data removed]",
            "text/plain": [
              "<Figure size 432x288 with 1 Axes>"
            ]
          },
          "metadata": {
            "tags": []
          }
        },
        {
          "output_type": "stream",
          "text": [
            "Predicted \n",
            "0\n",
            "True label \n",
            "2\n"
          ],
          "name": "stdout"
        },
        {
          "output_type": "display_data",
          "data": {
            "image/png": "[encoded data removed]",
            "text/plain": [
              "<Figure size 432x288 with 1 Axes>"
            ]
          },
          "metadata": {
            "tags": []
          }
        },
        {
          "output_type": "stream",
          "text": [
            "Predicted \n",
            "7\n",
            "True label \n",
            "9\n"
          ],
          "name": "stdout"
        },
        {
          "output_type": "display_data",
          "data": {
            "image/png": "[encoded data removed]",
            "text/plain": [
              "<Figure size 432x288 with 1 Axes>"
            ]
          },
          "metadata": {
            "tags": []
          }
        },
        {
          "output_type": "stream",
          "text": [
            "Predicted \n",
            "2\n",
            "True label \n",
            "6\n"
          ],
          "name": "stdout"
        },
        {
          "output_type": "display_data",
          "data": {
            "image/png": "[encoded data removed]",
            "text/plain": [
              "<Figure size 432x288 with 1 Axes>"
            ]
          },
          "metadata": {
            "tags": []
          }
        },
        {
          "output_type": "stream",
          "text": [
            "Predicted \n",
            "4\n",
            "True label \n",
            "9\n"
          ],
          "name": "stdout"
        },
        {
          "output_type": "display_data",
          "data": {
            "image/png": "[encoded data removed]",
            "text/plain": [
              "<Figure size 432x288 with 1 Axes>"
            ]
          },
          "metadata": {
            "tags": []
          }
        },
        {
          "output_type": "stream",
          "text": [
            "Predicted \n",
            "8\n",
            "True label \n",
            "3\n"
          ],
          "name": "stdout"
        },
        {
          "output_type": "display_data",
          "data": {
            "image/png": "[encoded data removed]",
            "text/plain": [
              "<Figure size 432x288 with 1 Axes>"
            ]
          },
          "metadata": {
            "tags": []
          }
        },
        {
          "output_type": "stream",
          "text": [
            "Predicted \n",
            "4\n",
            "True label \n",
            "6\n"
          ],
          "name": "stdout"
        },
        {
          "output_type": "display_data",
          "data": {
            "image/png": "[encoded data removed]",
            "text/plain": [
              "<Figure size 432x288 with 1 Axes>"
            ]
          },
          "metadata": {
            "tags": []
          }
        },
        {
          "output_type": "stream",
          "text": [
            "Predicted \n",
            "2\n",
            "True label \n",
            "7\n"
          ],
          "name": "stdout"
        },
        {
          "output_type": "display_data",
          "data": {
            "image/png": "[encoded data removed]",
            "text/plain": [
              "<Figure size 432x288 with 1 Axes>"
            ]
          },
          "metadata": {
            "tags": []
          }
        }
      ]
    }
  ]
}