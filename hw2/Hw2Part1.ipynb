{
  "nbformat": 4,
  "nbformat_minor": 0,
  "metadata": {
    "colab": {
      "name": "Hw2Part1.ipynb",
      "provenance": [],
      "collapsed_sections": [
        "jOD5f5qCALLm",
        "sxd9FUzUJObc"
      ],
      "include_colab_link": true
    },
    "kernelspec": {
      "name": "python3",
      "display_name": "Python 3"
    },
    "accelerator": "GPU"
  },
  "cells": [
    {
      "cell_type": "markdown",
      "metadata": {
        "id": "view-in-github",
        "colab_type": "text"
      },
      "source": [
        "<a href=\"https://colab.research.google.com/github/trevinofernando/AI-MachineLearning/blob/master/hw2/Hw2Part1.ipynb\" target=\"_parent\"><img src=\"https://colab.research.google.com/assets/colab-badge.svg\" alt=\"Open In Colab\"/></a>"
      ]
    },
    {
      "cell_type": "markdown",
      "metadata": {
        "id": "mWfJPwih9TIL",
        "colab_type": "text"
      },
      "source": [
        "#Single Dense Layer Neural Network + Handcrafted Features\n",
        "####  For the MNIST digit classificiation problem"
      ]
    },
    {
      "cell_type": "markdown",
      "metadata": {
        "id": "8aAmRFnv-Gjh",
        "colab_type": "text"
      },
      "source": [
        "##Loading and Cleaning Data"
      ]
    },
    {
      "cell_type": "code",
      "metadata": {
        "id": "3x_LPvG77Wsg",
        "colab_type": "code",
        "colab": {}
      },
      "source": [
        "%tensorflow_version 1.x\n",
        "import tensorflow as tf\n",
        "from keras import models\n",
        "from keras import layers\n",
        "import numpy as np\n",
        "import matplotlib.pyplot as plt\n",
        "\n",
        "#28x28 images of hand written digits from 0 to 9\n",
        "mnist = tf.keras.datasets.mnist\n",
        "\n",
        "#Extract images and labels from mnist as 2 tuples, one for training and one for testing\n",
        "(train_images_original, train_labels_original), (test_images_original, test_labels_original) = mnist.load_data()\n",
        "\n",
        "#RE-shape data to be a vectors instead of img matices\n",
        "train_images = train_images_original.reshape((60000, 28 * 28))\n",
        "test_images = test_images_original.reshape((10000, 28 * 28))\n",
        "\n",
        "#Re-scale data to be from 0 to 1\n",
        "train_images = train_images.astype('float32') / 255\n",
        "test_images = test_images.astype('float32') / 255"
      ],
      "execution_count": 0,
      "outputs": []
    },
    {
      "cell_type": "markdown",
      "metadata": {
        "id": "EFs-IlKUj2RH",
        "colab_type": "text"
      },
      "source": [
        "###Progress Bar GUI"
      ]
    },
    {
      "cell_type": "code",
      "metadata": {
        "id": "g8yFQA0Qj6-z",
        "colab_type": "code",
        "outputId": "9599a242-ff60-4d24-fd64-bc8924aa0e05",
        "colab": {
          "base_uri": "https://localhost:8080/",
          "height": 34
        }
      },
      "source": [
        "from IPython.display import HTML, display\n",
        "import time\n",
        "\n",
        "def progress(value, max=100):\n",
        "    return HTML(\"\"\"\n",
        "        <progress\n",
        "            value='{value}'\n",
        "            max='{max}',\n",
        "            style='width: 100%'\n",
        "        >\n",
        "            {value}\n",
        "        </progress>\n",
        "    \"\"\".format(value=value, max=max))\n",
        "\n",
        "#Demostration of Progress Bar\n",
        "out = display(progress(0, 100), display_id=True)\n",
        "for i in range(101):\n",
        "  out.update(progress(i, 100))"
      ],
      "execution_count": 8,
      "outputs": [
        {
          "output_type": "display_data",
          "data": {
            "text/html": [
              "\n",
              "        <progress\n",
              "            value='100'\n",
              "            max='100',\n",
              "            style='width: 100%'\n",
              "        >\n",
              "            100\n",
              "        </progress>\n",
              "    "
            ],
            "text/plain": [
              "<IPython.core.display.HTML object>"
            ]
          },
          "metadata": {
            "tags": []
          }
        }
      ]
    },
    {
      "cell_type": "markdown",
      "metadata": {
        "id": "mrQOhaWP-hL_",
        "colab_type": "text"
      },
      "source": [
        "#Handcrafted Features"
      ]
    },
    {
      "cell_type": "markdown",
      "metadata": {
        "id": "ZCgcJL_N-Vce",
        "colab_type": "text"
      },
      "source": [
        "##Calculating Height and Width of each digits"
      ]
    },
    {
      "cell_type": "markdown",
      "metadata": {
        "id": "1G-10sps_9Xd",
        "colab_type": "text"
      },
      "source": [
        "### Feature Extraction with **For Loop**\n",
        "This is extremly inefficient (Time to run > about **25 min**)"
      ]
    },
    {
      "cell_type": "markdown",
      "metadata": {
        "id": "yhCpUIgJm9aY",
        "colab_type": "text"
      },
      "source": [
        "####Extracting Features for Train Dataset"
      ]
    },
    {
      "cell_type": "code",
      "metadata": {
        "id": "XkqYD4zM-1UT",
        "colab_type": "code",
        "outputId": "199af397-5839-4aa9-d708-19b18bf3b27e",
        "colab": {
          "base_uri": "https://localhost:8080/",
          "height": 221
        }
      },
      "source": [
        "# Extract Dimensions of input\n",
        "(img_count, col_size, rows_size) = train_images_original.shape\n",
        "\n",
        "#Get index of the first Non-Zero pixels in the image\n",
        "(img_index, col_of_positives, rows_of_positives)= np.where(train_images_original > 0)\n",
        "\n",
        "#initialize empty feature vectors\n",
        "train_height = np.array([])\n",
        "train_width = np.array([])\n",
        "\n",
        "#Set Empty Progress Bar \n",
        "out = display(progress(0, 100), display_id=True)\n",
        "\n",
        "#loop thru all images\n",
        "for i in range(img_count):\n",
        "  out.update(progress(i, img_count))\n",
        "\n",
        "  #extract all images from mixed matrix\n",
        "  img = np.where(img_index == i)[0]\n",
        "\n",
        "  #calculate height and width of digit by substracting the \n",
        "  #first and last non-white pixel horizontaly and vertically, \n",
        "  #then add one for the index 0 offset\n",
        "  train_height = np.append(train_height,  abs(col_of_positives[img[-1]] - col_of_positives[img[0]]) + 1)\n",
        "  train_width = np.append(train_width, abs(rows_of_positives[img[-1]] - rows_of_positives[img[0]]) + 1)\n",
        "print(\"Feature Extractione Done!\")\n",
        "\n",
        "#Re-shape vectors to be be compatible for concatenation with the dataset\n",
        "train_height = train_height.reshape(img_count, 1)\n",
        "train_width = train_width.reshape(img_count, 1)\n",
        "\n",
        "#Re-scale data to be from 0 to 1\n",
        "train_height = train_height.astype('float32') / col_size\n",
        "train_width = train_width.astype('float32') / rows_size\n",
        "\n",
        "print(\"Vector Shape:\")\n",
        "print(train_height.shape)\n",
        "print(\"Max height value\")\n",
        "print(np.max(train_height, axis=0))\n",
        "print(\"Min height value\")\n",
        "print(np.min(train_height, axis=0))\n",
        "print(\"Max width value\")\n",
        "print(np.max(train_width, axis=0))\n",
        "print(\"Min width value\")\n",
        "print(np.min(train_width, axis=0))"
      ],
      "execution_count": 0,
      "outputs": [
        {
          "output_type": "display_data",
          "data": {
            "text/html": [
              "\n",
              "        <progress\n",
              "            value='59999'\n",
              "            max='60000',\n",
              "            style='width: 100%'\n",
              "        >\n",
              "            59999\n",
              "        </progress>\n",
              "    "
            ],
            "text/plain": [
              "<IPython.core.display.HTML object>"
            ]
          },
          "metadata": {
            "tags": []
          }
        },
        {
          "output_type": "stream",
          "text": [
            "Feature Extractione Done!\n",
            "Vector Shape:\n",
            "(60000, 1)\n",
            "Max height value\n",
            "[0.71428573]\n",
            "Min height value\n",
            "[0.32142857]\n",
            "Max width value\n",
            "[0.71428573]\n",
            "Min width value\n",
            "[0.03571429]\n"
          ],
          "name": "stdout"
        }
      ]
    },
    {
      "cell_type": "markdown",
      "metadata": {
        "id": "iodIUboFnEJD",
        "colab_type": "text"
      },
      "source": [
        "####Extracting Features for Test Dataset"
      ]
    },
    {
      "cell_type": "code",
      "metadata": {
        "id": "GjFHVszQm7-Y",
        "colab_type": "code",
        "outputId": "3b92b685-eacf-4c8b-bb1f-1b33aa660378",
        "colab": {
          "base_uri": "https://localhost:8080/",
          "height": 221
        }
      },
      "source": [
        "# Extract Dimensions of input\n",
        "(img_count, col_size, rows_size) = test_images_original.shape\n",
        "\n",
        "#Get index of the first Non-Zero pixels in the image\n",
        "(img_index, col_of_positives, rows_of_positives)= np.where(test_images_original > 0)\n",
        "\n",
        "#initialize empty feature vectors\n",
        "test_height = np.array([])\n",
        "test_width = np.array([])\n",
        "\n",
        "#Set Empty Progress Bar \n",
        "out = display(progress(0, 100), display_id=True)\n",
        "\n",
        "#loop thru all images\n",
        "for i in range(img_count):\n",
        "  out.update(progress(i, img_count))\n",
        "\n",
        "  #extract all images from mixed matrix\n",
        "  img = np.where(img_index == i)[0]\n",
        "\n",
        "  #calculate height and width of digit by substracting the \n",
        "  #first and last non-white pixel horizontaly and vertically, \n",
        "  #then add one for the index 0 offset\n",
        "  test_height = np.append(test_height,  abs(col_of_positives[img[-1]] - col_of_positives[img[0]]) + 1)\n",
        "  test_width = np.append(test_width, abs(rows_of_positives[img[-1]] - rows_of_positives[img[0]]) + 1)\n",
        "print(\"Feature Extractione Done!\")\n",
        "\n",
        "#Re-shape vectors to be be compatible for concatenation with the dataset\n",
        "test_height = test_height.reshape(img_count, 1)\n",
        "test_width = test_width.reshape(img_count, 1)\n",
        "\n",
        "#Re-scale data to be from 0 to 1\n",
        "test_height = test_height.astype('float32') / col_size\n",
        "test_width = test_width.astype('float32') / rows_size\n",
        "\n",
        "print(\"Vector Shape:\")\n",
        "print(test_height.shape)\n",
        "print(\"Max height value\")\n",
        "print(np.max(test_height, axis=0))\n",
        "print(\"Min height value\")\n",
        "print(np.min(test_height, axis=0))\n",
        "print(\"Max width value\")\n",
        "print(np.max(test_width, axis=0))\n",
        "print(\"Min width value\")\n",
        "print(np.min(test_width, axis=0))"
      ],
      "execution_count": 0,
      "outputs": [
        {
          "output_type": "display_data",
          "data": {
            "text/html": [
              "\n",
              "        <progress\n",
              "            value='9999'\n",
              "            max='10000',\n",
              "            style='width: 100%'\n",
              "        >\n",
              "            9999\n",
              "        </progress>\n",
              "    "
            ],
            "text/plain": [
              "<IPython.core.display.HTML object>"
            ]
          },
          "metadata": {
            "tags": []
          }
        },
        {
          "output_type": "stream",
          "text": [
            "Feature Extractione Done!\n",
            "Vector Shape:\n",
            "(10000, 1)\n",
            "Max height value\n",
            "[0.71428573]\n",
            "Min height value\n",
            "[0.35714287]\n",
            "Max width value\n",
            "[0.71428573]\n",
            "Min width value\n",
            "[0.03571429]\n"
          ],
          "name": "stdout"
        }
      ]
    },
    {
      "cell_type": "markdown",
      "metadata": {
        "colab_type": "text",
        "id": "2a7DQ3bcALLB"
      },
      "source": [
        "### Feature Extraction with **No For Loop**\n",
        "Very efficient (Time to run < **1 sec**)\n"
      ]
    },
    {
      "cell_type": "markdown",
      "metadata": {
        "colab_type": "text",
        "id": "9LoydlsHALLM"
      },
      "source": [
        "####Extracting Features for Train Dataset"
      ]
    },
    {
      "cell_type": "code",
      "metadata": {
        "colab_type": "code",
        "outputId": "f1717b18-672c-4929-c5e9-48e0d2403f81",
        "id": "_7Pf6sonALLS",
        "colab": {
          "base_uri": "https://localhost:8080/",
          "height": 187
        }
      },
      "source": [
        "# Extract Dimensions of input\n",
        "(img_count, col_size, rows_size) = train_images_original.shape\n",
        "\n",
        "#Get index of the first Non-Zero pixels in the image\n",
        "(img_index, col_of_positives, rows_of_positives)= np.where(train_images_original > 0)\n",
        "\n",
        "#initialize empty feature vectors\n",
        "train_height = np.array([])\n",
        "train_width = np.array([])\n",
        "\n",
        "offset = img_index[1:]\n",
        "offset = np.append(offset, img_index[0])\n",
        "last = np.where(img_index != offset)[0]\n",
        "\n",
        "offset = img_index[-1]\n",
        "offset = np.append(offset, img_index[:-1])\n",
        "first = np.where(img_index != offset)[0]\n",
        "\n",
        "#calculate height and width of digit by substracting the \n",
        "#first and last non-white pixel horizontaly and vertically, \n",
        "#then add one for the index 0 offset\n",
        "train_height = abs(col_of_positives[last] - col_of_positives[first]) + 1\n",
        "train_width = abs(rows_of_positives[last] - rows_of_positives[first]) + 1\n",
        "\n",
        "\n",
        "#Re-shape vectors to be be compatible for concatenation with the dataset\n",
        "train_height = train_height.reshape(img_count, 1)\n",
        "train_width = train_width.reshape(img_count, 1)\n",
        "\n",
        "#Re-scale data to be from 0 to 1\n",
        "train_height = train_height.astype('float32') / col_size\n",
        "train_width = train_width.astype('float32') / rows_size\n",
        "\n",
        "print(\"Vector Shape:\")\n",
        "print(train_height.shape)\n",
        "print(\"Max height value\")\n",
        "print(np.max(train_height, axis=0))\n",
        "print(\"Min height value\")\n",
        "print(np.min(train_height, axis=0))\n",
        "print(\"Max width value\")\n",
        "print(np.max(train_width, axis=0))\n",
        "print(\"Min width value\")\n",
        "print(np.min(train_width, axis=0))"
      ],
      "execution_count": 9,
      "outputs": [
        {
          "output_type": "stream",
          "text": [
            "Vector Shape:\n",
            "(60000, 1)\n",
            "Max height value\n",
            "[0.71428573]\n",
            "Min height value\n",
            "[0.32142857]\n",
            "Max width value\n",
            "[0.71428573]\n",
            "Min width value\n",
            "[0.03571429]\n"
          ],
          "name": "stdout"
        }
      ]
    },
    {
      "cell_type": "markdown",
      "metadata": {
        "colab_type": "text",
        "id": "jOD5f5qCALLm"
      },
      "source": [
        "####Extracting Features for Test Dataset"
      ]
    },
    {
      "cell_type": "code",
      "metadata": {
        "colab_type": "code",
        "outputId": "3932090a-39f7-4055-f247-ad797d6f15e2",
        "id": "zKbzC-ysALLo",
        "colab": {
          "base_uri": "https://localhost:8080/",
          "height": 0
        }
      },
      "source": [
        "# Extract Dimensions of input\n",
        "(img_count, col_size, rows_size) = test_images_original.shape\n",
        "\n",
        "#Get index of the first Non-Zero pixels in the image\n",
        "(img_index, col_of_positives, rows_of_positives)= np.where(test_images_original > 0)\n",
        "\n",
        "#initialize empty feature vectors\n",
        "test_height = np.array([])\n",
        "test_width = np.array([])\n",
        "\n",
        "offset = img_index[1:]\n",
        "offset = np.append(offset, img_index[0])\n",
        "last = np.where(img_index != offset)[0]\n",
        "\n",
        "offset = img_index[-1]\n",
        "offset = np.append(offset, img_index[:-1])\n",
        "first = np.where(img_index != offset)[0]\n",
        "\n",
        "#calculate height and width of digit by substracting the \n",
        "#first and last non-white pixel horizontaly and vertically, \n",
        "#then add one for the index 0 offset\n",
        "test_height = abs(col_of_positives[last] - col_of_positives[first]) + 1\n",
        "test_width = abs(rows_of_positives[last] - rows_of_positives[first]) + 1\n",
        "\n",
        "#Re-shape vectors to be be compatible for concatenation with the dataset\n",
        "test_height = test_height.reshape(img_count, 1)\n",
        "test_width = test_width.reshape(img_count, 1)\n",
        "\n",
        "#Re-scale data to be from 0 to 1\n",
        "test_height = test_height.astype('float32') / col_size\n",
        "test_width = test_width.astype('float32') / rows_size\n",
        "\n",
        "print(\"Vector Shape:\")\n",
        "print(test_height.shape)\n",
        "print(\"Max height value\")\n",
        "print(np.max(test_height, axis=0))\n",
        "print(\"Min height value\")\n",
        "print(np.min(test_height, axis=0))\n",
        "print(\"Max width value\")\n",
        "print(np.max(test_width, axis=0))\n",
        "print(\"Min width value\")\n",
        "print(np.min(test_width, axis=0))"
      ],
      "execution_count": 10,
      "outputs": [
        {
          "output_type": "stream",
          "text": [
            "Vector Shape:\n",
            "(10000, 1)\n",
            "Max height value\n",
            "[0.71428573]\n",
            "Min height value\n",
            "[0.35714287]\n",
            "Max width value\n",
            "[0.71428573]\n",
            "Min width value\n",
            "[0.03571429]\n"
          ],
          "name": "stdout"
        }
      ]
    },
    {
      "cell_type": "markdown",
      "metadata": {
        "id": "V01ikCVa-owF",
        "colab_type": "text"
      },
      "source": [
        "###Adding Handcrafted Feature to the data"
      ]
    },
    {
      "cell_type": "markdown",
      "metadata": {
        "id": "t4NoCI9WoIc_",
        "colab_type": "text"
      },
      "source": [
        "####Train Dataset"
      ]
    },
    {
      "cell_type": "code",
      "metadata": {
        "id": "LmFp5vBSuauM",
        "colab_type": "code",
        "outputId": "4eadd803-8b6f-4d1e-c553-aa3e843a571c",
        "colab": {
          "base_uri": "https://localhost:8080/",
          "height": 136
        }
      },
      "source": [
        "print(train_images.shape)\n",
        "print(\"+\")\n",
        "print(train_height.shape)\n",
        "print(\"+\")\n",
        "print(train_width.shape)\n",
        "\n",
        "#add the 2 new features to the end of the flatten image vector of the train dataset\n",
        "train_images = np.concatenate((train_images, train_height), axis = 1)\n",
        "train_images = np.concatenate((train_images, train_width), axis = 1)\n",
        "\n",
        "print(\"=\")\n",
        "print(train_images.shape)"
      ],
      "execution_count": 11,
      "outputs": [
        {
          "output_type": "stream",
          "text": [
            "(60000, 784)\n",
            "+\n",
            "(60000, 1)\n",
            "+\n",
            "(60000, 1)\n",
            "=\n",
            "(60000, 786)\n"
          ],
          "name": "stdout"
        }
      ]
    },
    {
      "cell_type": "markdown",
      "metadata": {
        "id": "8-Wn-w99oNFV",
        "colab_type": "text"
      },
      "source": [
        "####Test Dataset"
      ]
    },
    {
      "cell_type": "code",
      "metadata": {
        "id": "5XTQ1L8unjjs",
        "colab_type": "code",
        "outputId": "00408792-3dde-423c-c016-44bba454cd43",
        "colab": {
          "base_uri": "https://localhost:8080/",
          "height": 136
        }
      },
      "source": [
        "print(test_images.shape)\n",
        "print(\"+\")\n",
        "print(test_height.shape)\n",
        "print(\"+\")\n",
        "print(test_width.shape)\n",
        "\n",
        "#add the 2 new features to the end of the flatten image vector of the train dataset\n",
        "test_images = np.concatenate((test_images, test_height), axis = 1)\n",
        "test_images = np.concatenate((test_images, test_width), axis = 1)\n",
        "\n",
        "print(\"=\")\n",
        "print(test_images.shape)"
      ],
      "execution_count": 12,
      "outputs": [
        {
          "output_type": "stream",
          "text": [
            "(10000, 784)\n",
            "+\n",
            "(10000, 1)\n",
            "+\n",
            "(10000, 1)\n",
            "=\n",
            "(10000, 786)\n"
          ],
          "name": "stdout"
        }
      ]
    },
    {
      "cell_type": "markdown",
      "metadata": {
        "id": "sxd9FUzUJObc",
        "colab_type": "text"
      },
      "source": [
        "# Categorically Encode the Labels"
      ]
    },
    {
      "cell_type": "code",
      "metadata": {
        "id": "0bLhB_F1JUtp",
        "colab_type": "code",
        "colab": {}
      },
      "source": [
        "from keras.utils import to_categorical\n",
        "#Else we wolud have to use sparse_categorical_crossentropy\n",
        "train_labels = to_categorical(train_labels_original)\n",
        "test_labels = to_categorical(test_labels_original)"
      ],
      "execution_count": 0,
      "outputs": []
    },
    {
      "cell_type": "markdown",
      "metadata": {
        "id": "IGsRiskeFuiB",
        "colab_type": "text"
      },
      "source": [
        "#Network Architecture"
      ]
    },
    {
      "cell_type": "code",
      "metadata": {
        "id": "EOC5AF_7FnKs",
        "colab_type": "code",
        "outputId": "252d3249-5d36-4ab2-c205-f6e93e7a7310",
        "colab": {
          "base_uri": "https://localhost:8080/",
          "height": 221
        }
      },
      "source": [
        "model = models.Sequential()\n",
        "\n",
        "#28*28 is the imgSize and +2 for the 2 hancrafted features\n",
        "model.add(layers.Dense(512, activation = tf.nn.relu, input_shape=(28 * 28 + 2,))) #Hidden layer using reLu(x) = max(0,x).\n",
        "model.add(layers.Dense(10, activation = tf.nn.softmax)) #Output layer needs softmax with 10 neurons for One hot encoding\n",
        "model.summary()"
      ],
      "execution_count": 26,
      "outputs": [
        {
          "output_type": "stream",
          "text": [
            "Model: \"sequential_2\"\n",
            "_________________________________________________________________\n",
            "Layer (type)                 Output Shape              Param #   \n",
            "=================================================================\n",
            "dense_3 (Dense)              (None, 512)               402944    \n",
            "_________________________________________________________________\n",
            "dense_4 (Dense)              (None, 10)                5130      \n",
            "=================================================================\n",
            "Total params: 408,074\n",
            "Trainable params: 408,074\n",
            "Non-trainable params: 0\n",
            "_________________________________________________________________\n"
          ],
          "name": "stdout"
        }
      ]
    },
    {
      "cell_type": "markdown",
      "metadata": {
        "id": "-1qkd2LcGyvd",
        "colab_type": "text"
      },
      "source": [
        "#Compiling Model"
      ]
    },
    {
      "cell_type": "code",
      "metadata": {
        "id": "NO50whEnF5xB",
        "colab_type": "code",
        "colab": {}
      },
      "source": [
        "model.compile( optimizer='rmsprop', #Root Mean Square Propogation\n",
        "              loss='categorical_crossentropy', #For one-hot encoded output\n",
        "              metrics=['accuracy'])\n",
        "# Other options: optimer='adam', loss='sparse_categorical_crossentropy'"
      ],
      "execution_count": 0,
      "outputs": []
    },
    {
      "cell_type": "markdown",
      "metadata": {
        "id": "xNW68iWkG3Md",
        "colab_type": "text"
      },
      "source": [
        "#Training Model"
      ]
    },
    {
      "cell_type": "code",
      "metadata": {
        "id": "s9kbIUT1GxWp",
        "colab_type": "code",
        "outputId": "8d9d45b7-1365-49e2-e335-d48751c94236",
        "colab": {
          "base_uri": "https://localhost:8080/",
          "height": 374
        }
      },
      "source": [
        "#Set number of epochs\n",
        "epochs = 10\n",
        "#Save training history for analysis purposes later\n",
        "history = model.fit(train_images, \n",
        "                    train_labels, \n",
        "                    epochs = epochs,\n",
        "                    batch_size=128, \n",
        "                    validation_data=(test_images, test_labels))"
      ],
      "execution_count": 28,
      "outputs": [
        {
          "output_type": "stream",
          "text": [
            "Train on 60000 samples, validate on 10000 samples\n",
            "Epoch 1/10\n",
            "60000/60000 [==============================] - 2s 28us/step - loss: 0.2596 - acc: 0.9243 - val_loss: 0.1238 - val_acc: 0.9633\n",
            "Epoch 2/10\n",
            "60000/60000 [==============================] - 1s 24us/step - loss: 0.1038 - acc: 0.9685 - val_loss: 0.0881 - val_acc: 0.9745\n",
            "Epoch 3/10\n",
            "60000/60000 [==============================] - 2s 25us/step - loss: 0.0685 - acc: 0.9802 - val_loss: 0.0729 - val_acc: 0.9779\n",
            "Epoch 4/10\n",
            "60000/60000 [==============================] - 1s 24us/step - loss: 0.0494 - acc: 0.9855 - val_loss: 0.0690 - val_acc: 0.9805\n",
            "Epoch 5/10\n",
            "60000/60000 [==============================] - 1s 25us/step - loss: 0.0373 - acc: 0.9888 - val_loss: 0.0679 - val_acc: 0.9804\n",
            "Epoch 6/10\n",
            "60000/60000 [==============================] - 1s 25us/step - loss: 0.0286 - acc: 0.9915 - val_loss: 0.0664 - val_acc: 0.9807\n",
            "Epoch 7/10\n",
            "60000/60000 [==============================] - 1s 24us/step - loss: 0.0218 - acc: 0.9936 - val_loss: 0.0718 - val_acc: 0.9812\n",
            "Epoch 8/10\n",
            "60000/60000 [==============================] - 2s 25us/step - loss: 0.0167 - acc: 0.9953 - val_loss: 0.0657 - val_acc: 0.9822\n",
            "Epoch 9/10\n",
            "60000/60000 [==============================] - 2s 25us/step - loss: 0.0132 - acc: 0.9961 - val_loss: 0.0766 - val_acc: 0.9783\n",
            "Epoch 10/10\n",
            "60000/60000 [==============================] - 2s 25us/step - loss: 0.0100 - acc: 0.9972 - val_loss: 0.0703 - val_acc: 0.9818\n"
          ],
          "name": "stdout"
        }
      ]
    },
    {
      "cell_type": "markdown",
      "metadata": {
        "id": "M37dpY2lHhzr",
        "colab_type": "text"
      },
      "source": [
        "#Visualization"
      ]
    },
    {
      "cell_type": "markdown",
      "metadata": {
        "id": "vEm-BoXwHlu0",
        "colab_type": "text"
      },
      "source": [
        "### Training and Test Loss"
      ]
    },
    {
      "cell_type": "code",
      "metadata": {
        "id": "gOn5yrOWADkt",
        "colab_type": "code",
        "colab": {}
      },
      "source": [
        "#Extract history from model and save it as a dictionary\n",
        "history_dict = history.history\n",
        "#Extract the train loss on each epoch\n",
        "loss_values = history_dict['loss']\n",
        "#Extract the test loss on each epoch\n",
        "test_loss_values = history_dict['val_loss']\n",
        "#Set range for graphing purposes (1 to epochs+1) not inclusive\n",
        "epochs_range = range(1, epochs + 1)"
      ],
      "execution_count": 0,
      "outputs": []
    },
    {
      "cell_type": "code",
      "metadata": {
        "id": "QiXl70I6HKiZ",
        "colab_type": "code",
        "outputId": "edac0539-ad7b-41c3-ab62-cc2194a871df",
        "colab": {
          "base_uri": "https://localhost:8080/",
          "height": 295
        }
      },
      "source": [
        "plt.plot(epochs_range, loss_values, 'bo', label='Training loss')\n",
        "plt.plot(epochs_range, test_loss_values, 'ro', label='Test loss')\n",
        "plt.title('Training and test loss')\n",
        "plt.xlabel('Epochs')\n",
        "plt.ylabel('Loss')\n",
        "plt.legend()\n",
        "plt.show()"
      ],
      "execution_count": 30,
      "outputs": [
        {
          "output_type": "display_data",
          "data": {
            "image/png": "[encoded data removed]",
            "text/plain": [
              "<Figure size 432x288 with 1 Axes>"
            ]
          },
          "metadata": {
            "tags": []
          }
        }
      ]
    },
    {
      "cell_type": "markdown",
      "metadata": {
        "id": "24eprpA9HtIJ",
        "colab_type": "text"
      },
      "source": [
        "### Training and Test Accuracy"
      ]
    },
    {
      "cell_type": "code",
      "metadata": {
        "id": "QbM2JHlPHz3x",
        "colab_type": "code",
        "colab": {}
      },
      "source": [
        "acc_values = history_dict['acc']\n",
        "test_acc_values = history_dict['val_acc']"
      ],
      "execution_count": 0,
      "outputs": []
    },
    {
      "cell_type": "code",
      "metadata": {
        "id": "c-0DtK59H1mF",
        "colab_type": "code",
        "outputId": "d7cdd8c1-4c95-4f39-d57c-2a8aefd19b12",
        "colab": {
          "base_uri": "https://localhost:8080/",
          "height": 295
        }
      },
      "source": [
        "plt.plot(epochs_range, acc_values, 'bo', label='Training accuracy')\n",
        "plt.plot(epochs_range, test_acc_values, 'ro', label='Test accuracy')\n",
        "plt.title('Training and test accuracy')\n",
        "plt.xlabel('Epochs')\n",
        "plt.ylabel('Accuracy')\n",
        "plt.legend()\n",
        "plt.show()"
      ],
      "execution_count": 32,
      "outputs": [
        {
          "output_type": "display_data",
          "data": {
            "image/png": "[encoded data removed]",
            "text/plain": [
              "<Figure size 432x288 with 1 Axes>"
            ]
          },
          "metadata": {
            "tags": []
          }
        }
      ]
    },
    {
      "cell_type": "markdown",
      "metadata": {
        "id": "2BqAM3snBaY5",
        "colab_type": "text"
      },
      "source": [
        "##Save Model"
      ]
    },
    {
      "cell_type": "code",
      "metadata": {
        "id": "kL7Jweg0BMHv",
        "colab_type": "code",
        "colab": {}
      },
      "source": [
        "model.save('Mnist_Height_Width.hw2')"
      ],
      "execution_count": 0,
      "outputs": []
    },
    {
      "cell_type": "markdown",
      "metadata": {
        "id": "t4QxZYRYBgQg",
        "colab_type": "text"
      },
      "source": [
        "##Load Model"
      ]
    },
    {
      "cell_type": "code",
      "metadata": {
        "id": "GHnx_Yt8Bina",
        "colab_type": "code",
        "colab": {}
      },
      "source": [
        "old_model = tf.keras.models.load_model('Mnist_Height_Width.hw2')"
      ],
      "execution_count": 0,
      "outputs": []
    },
    {
      "cell_type": "markdown",
      "metadata": {
        "id": "dR_PmaukUaAW",
        "colab_type": "text"
      },
      "source": [
        "#Missclassified digits"
      ]
    },
    {
      "cell_type": "code",
      "metadata": {
        "id": "nWVYRBlLB5nK",
        "colab_type": "code",
        "outputId": "d0f02c22-ac4b-4828-af02-8b75f254f9a9",
        "colab": {
          "base_uri": "https://localhost:8080/",
          "height": 34
        }
      },
      "source": [
        "#Test model on Test dataset\n",
        "predictions = old_model.predict([test_images])\n",
        "#Get predictions by extracting the max on the One Hot Encoded Vector\n",
        "predictions = np.argmax(predictions, axis=1) \n",
        "#Cast values to make sure it's uint8\n",
        "predictions = predictions.astype('uint8')\n",
        "print(predictions)"
      ],
      "execution_count": 35,
      "outputs": [
        {
          "output_type": "stream",
          "text": [
            "[7 2 1 ... 4 5 6]\n"
          ],
          "name": "stdout"
        }
      ]
    },
    {
      "cell_type": "code",
      "metadata": {
        "id": "MMV4oFHfLlH7",
        "colab_type": "code",
        "outputId": "7956f59d-8aa7-4903-89f7-2bb455ce7f7a",
        "colab": {
          "base_uri": "https://localhost:8080/",
          "height": 34
        }
      },
      "source": [
        "(numLabels,) = test_labels_original.shape\n",
        "#Compare predicted labels against real labels and extract the bad predictions\n",
        "wrong_indices = [i for i in range(numLabels) if predictions[i] != test_labels_original[i]]\n",
        "# The quantity below is equal to the test accuracy reported by the network fit method.\n",
        "print(1.0 - len(wrong_indices) / numLabels)"
      ],
      "execution_count": 36,
      "outputs": [
        {
          "output_type": "stream",
          "text": [
            "0.9818\n"
          ],
          "name": "stdout"
        }
      ]
    },
    {
      "cell_type": "code",
      "metadata": {
        "id": "D9bXY9rUL5B1",
        "colab_type": "code",
        "outputId": "b9854d2b-0d18-4f1d-97c8-e8ae52033dd8",
        "colab": {
          "base_uri": "https://localhost:8080/",
          "height": 1000
        }
      },
      "source": [
        "# This show the ith misclassified digit. \n",
        "numImages = 10\n",
        "for i in range(numImages):\n",
        "  wrong_index = wrong_indices[(int)(i * len(wrong_indices) / numImages)]\n",
        "  print(\"Predicted \")\n",
        "  print(predictions[wrong_index])\n",
        "  print(\"True label \")\n",
        "  print(test_labels_original[wrong_index])\n",
        "  plt.imshow(test_images_original[wrong_index], cmap = plt.cm.binary)\n",
        "  plt.show()"
      ],
      "execution_count": 37,
      "outputs": [
        {
          "output_type": "stream",
          "text": [
            "Predicted \n",
            "9\n",
            "True label \n",
            "4\n"
          ],
          "name": "stdout"
        },
        {
          "output_type": "display_data",
          "data": {
            "image/png": "[encoded data removed]",
            "text/plain": [
              "<Figure size 432x288 with 1 Axes>"
            ]
          },
          "metadata": {
            "tags": []
          }
        },
        {
          "output_type": "stream",
          "text": [
            "Predicted \n",
            "2\n",
            "True label \n",
            "7\n"
          ],
          "name": "stdout"
        },
        {
          "output_type": "display_data",
          "data": {
            "image/png": "[encoded data removed]",
            "text/plain": [
              "<Figure size 432x288 with 1 Axes>"
            ]
          },
          "metadata": {
            "tags": []
          }
        },
        {
          "output_type": "stream",
          "text": [
            "Predicted \n",
            "7\n",
            "True label \n",
            "3\n"
          ],
          "name": "stdout"
        },
        {
          "output_type": "display_data",
          "data": {
            "image/png": "[encoded data removed]",
            "text/plain": [
              "<Figure size 432x288 with 1 Axes>"
            ]
          },
          "metadata": {
            "tags": []
          }
        },
        {
          "output_type": "stream",
          "text": [
            "Predicted \n",
            "1\n",
            "True label \n",
            "9\n"
          ],
          "name": "stdout"
        },
        {
          "output_type": "display_data",
          "data": {
            "image/png": "[encoded data removed]",
            "text/plain": [
              "<Figure size 432x288 with 1 Axes>"
            ]
          },
          "metadata": {
            "tags": []
          }
        },
        {
          "output_type": "stream",
          "text": [
            "Predicted \n",
            "7\n",
            "True label \n",
            "3\n"
          ],
          "name": "stdout"
        },
        {
          "output_type": "display_data",
          "data": {
            "image/png": "[encoded data removed]",
            "text/plain": [
              "<Figure size 432x288 with 1 Axes>"
            ]
          },
          "metadata": {
            "tags": []
          }
        },
        {
          "output_type": "stream",
          "text": [
            "Predicted \n",
            "4\n",
            "True label \n",
            "9\n"
          ],
          "name": "stdout"
        },
        {
          "output_type": "display_data",
          "data": {
            "image/png": "[encoded data removed]",
            "text/plain": [
              "<Figure size 432x288 with 1 Axes>"
            ]
          },
          "metadata": {
            "tags": []
          }
        },
        {
          "output_type": "stream",
          "text": [
            "Predicted \n",
            "2\n",
            "True label \n",
            "3\n"
          ],
          "name": "stdout"
        },
        {
          "output_type": "display_data",
          "data": {
            "image/png": "[encoded data removed]",
            "text/plain": [
              "<Figure size 432x288 with 1 Axes>"
            ]
          },
          "metadata": {
            "tags": []
          }
        },
        {
          "output_type": "stream",
          "text": [
            "Predicted \n",
            "9\n",
            "True label \n",
            "7\n"
          ],
          "name": "stdout"
        },
        {
          "output_type": "display_data",
          "data": {
            "image/png": "[encoded data removed]",
            "text/plain": [
              "<Figure size 432x288 with 1 Axes>"
            ]
          },
          "metadata": {
            "tags": []
          }
        },
        {
          "output_type": "stream",
          "text": [
            "Predicted \n",
            "9\n",
            "True label \n",
            "8\n"
          ],
          "name": "stdout"
        },
        {
          "output_type": "display_data",
          "data": {
            "image/png": "[encoded data removed]",
            "text/plain": [
              "<Figure size 432x288 with 1 Axes>"
            ]
          },
          "metadata": {
            "tags": []
          }
        },
        {
          "output_type": "stream",
          "text": [
            "Predicted \n",
            "4\n",
            "True label \n",
            "2\n"
          ],
          "name": "stdout"
        },
        {
          "output_type": "display_data",
          "data": {
            "image/png": "[encoded data removed]",
            "text/plain": [
              "<Figure size 432x288 with 1 Axes>"
            ]
          },
          "metadata": {
            "tags": []
          }
        }
      ]
    }
  ]
}