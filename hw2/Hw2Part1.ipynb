{
  "nbformat": 4,
  "nbformat_minor": 0,
  "metadata": {
    "colab": {
      "name": "Hw2Part1.ipynb",
      "provenance": [],
      "collapsed_sections": [],
      "include_colab_link": true
    },
    "kernelspec": {
      "name": "python3",
      "display_name": "Python 3"
    },
    "accelerator": "GPU"
  },
  "cells": [
    {
      "cell_type": "markdown",
      "metadata": {
        "id": "view-in-github",
        "colab_type": "text"
      },
      "source": [
        "<a href=\"https://colab.research.google.com/github/trevinofernando/AI-MachineLearning/blob/master/hw2/Hw2Part1.ipynb\" target=\"_parent\"><img src=\"https://colab.research.google.com/assets/colab-badge.svg\" alt=\"Open In Colab\"/></a>"
      ]
    },
    {
      "cell_type": "markdown",
      "metadata": {
        "id": "mWfJPwih9TIL",
        "colab_type": "text"
      },
      "source": [
        "#Single Dense Layer Neural Network + Handcrafted Features\n",
        "####  For the MNIST digit classificiation problem"
      ]
    },
    {
      "cell_type": "markdown",
      "metadata": {
        "id": "8aAmRFnv-Gjh",
        "colab_type": "text"
      },
      "source": [
        "##Loading and Cleaning Data"
      ]
    },
    {
      "cell_type": "code",
      "metadata": {
        "id": "3x_LPvG77Wsg",
        "colab_type": "code",
        "colab": {}
      },
      "source": [
        "%tensorflow_version 1.x\n",
        "import tensorflow as tf\n",
        "from keras import models\n",
        "from keras import layers\n",
        "import numpy as np\n",
        "import matplotlib.pyplot as plt\n",
        "\n",
        "#28x28 images of hand written digits from 0 to 9\n",
        "mnist = tf.keras.datasets.mnist\n",
        "\n",
        "#Extract images and labels from mnist as 2 tuples, one for training and one for testing\n",
        "(train_images_original, train_labels_original), (test_images_original, test_labels_original) = mnist.load_data()\n",
        "\n",
        "#RE-shape data to be a vectors instead of img matices\n",
        "train_images = train_images_original.reshape((60000, 28 * 28))\n",
        "test_images = test_images_original.reshape((10000, 28 * 28))\n",
        "\n",
        "#Re-scale data to be from 0 to 1\n",
        "train_images = train_images.astype('float32') / 255\n",
        "test_images = test_images.astype('float32') / 255"
      ],
      "execution_count": 0,
      "outputs": []
    },
    {
      "cell_type": "markdown",
      "metadata": {
        "id": "EFs-IlKUj2RH",
        "colab_type": "text"
      },
      "source": [
        "###Progress Bar GUI"
      ]
    },
    {
      "cell_type": "code",
      "metadata": {
        "id": "g8yFQA0Qj6-z",
        "colab_type": "code",
        "colab": {
          "base_uri": "https://localhost:8080/",
          "height": 34
        },
        "outputId": "bbaf5f91-cfa5-4be0-c408-9d81e82d1732"
      },
      "source": [
        "from IPython.display import HTML, display\n",
        "import time\n",
        "\n",
        "def progress(value, max=100):\n",
        "    return HTML(\"\"\"\n",
        "        <progress\n",
        "            value='{value}'\n",
        "            max='{max}',\n",
        "            style='width: 100%'\n",
        "        >\n",
        "            {value}\n",
        "        </progress>\n",
        "    \"\"\".format(value=value, max=max))\n",
        "\n",
        "#Demostration of Progress Bar\n",
        "out = display(progress(0, 100), display_id=True)\n",
        "\n",
        "for i in range(100):\n",
        "  out.update(progress(i, 100))"
      ],
      "execution_count": 7,
      "outputs": [
        {
          "output_type": "display_data",
          "data": {
            "text/html": [
              "\n",
              "        <progress\n",
              "            value='99'\n",
              "            max='100',\n",
              "            style='width: 100%'\n",
              "        >\n",
              "            99\n",
              "        </progress>\n",
              "    "
            ],
            "text/plain": [
              "<IPython.core.display.HTML object>"
            ]
          },
          "metadata": {
            "tags": []
          }
        }
      ]
    },
    {
      "cell_type": "markdown",
      "metadata": {
        "id": "mrQOhaWP-hL_",
        "colab_type": "text"
      },
      "source": [
        "#Handcrafted Features"
      ]
    },
    {
      "cell_type": "markdown",
      "metadata": {
        "id": "ZCgcJL_N-Vce",
        "colab_type": "text"
      },
      "source": [
        "##Calculating Height and Width of each digits"
      ]
    },
    {
      "cell_type": "markdown",
      "metadata": {
        "id": "yhCpUIgJm9aY",
        "colab_type": "text"
      },
      "source": [
        "####Extracting Features for Train Dataset"
      ]
    },
    {
      "cell_type": "code",
      "metadata": {
        "id": "XkqYD4zM-1UT",
        "colab_type": "code",
        "colab": {
          "base_uri": "https://localhost:8080/",
          "height": 51
        },
        "outputId": "922a927a-9e13-45b4-ea6c-729f7bd44871"
      },
      "source": [
        "# Extract Dimensions of input\n",
        "(img_count, col, rows) = train_images_original.shape\n",
        "\n",
        "#Get index of the first Non-Zero pixels in the image\n",
        "(img_index, col_of_positives, rows_of_positives)= np.where(train_images_original > 0)\n",
        "\n",
        "#initialize empty feature vectors\n",
        "train_height = np.array([])\n",
        "train_width = np.array([])\n",
        "\n",
        "#Set Empty Progress Bar \n",
        "out = display(progress(0, 100), display_id=True)\n",
        "\n",
        "#loop thru all images\n",
        "for i in range(img_count):\n",
        "  out.update(progress(i, img_count))\n",
        "\n",
        "  #extract all images from mixed matrix\n",
        "  img = np.where(img_index == i)[0]\n",
        "\n",
        "  #calculate height and width of digit by substracting the \n",
        "  #first and last non-white pixel horizontaly and vertically, \n",
        "  #then add one for the index 0 offset\n",
        "  train_height = np.append(train_height,  col_of_positives[img[-1]] - col_of_positives[img[0]] + 1)\n",
        "  train_width = np.append(train_width, rows_of_positives[img[-1]] - rows_of_positives[img[0]] + 1)\n",
        "\n",
        "#Re-shape vectors to be be compatible for concatenation with the dataset\n",
        "train_height = train_height.reshape(img_count, 1)\n",
        "train_width = train_width.reshape(img_count, 1)\n",
        "print(train_height.shape)"
      ],
      "execution_count": 10,
      "outputs": [
        {
          "output_type": "display_data",
          "data": {
            "text/html": [
              "\n",
              "        <progress\n",
              "            value='59999'\n",
              "            max='60000',\n",
              "            style='width: 100%'\n",
              "        >\n",
              "            59999\n",
              "        </progress>\n",
              "    "
            ],
            "text/plain": [
              "<IPython.core.display.HTML object>"
            ]
          },
          "metadata": {
            "tags": []
          }
        },
        {
          "output_type": "stream",
          "text": [
            "(60000, 1)\n"
          ],
          "name": "stdout"
        }
      ]
    },
    {
      "cell_type": "markdown",
      "metadata": {
        "id": "iodIUboFnEJD",
        "colab_type": "text"
      },
      "source": [
        "####Extracting Features for Test Dataset"
      ]
    },
    {
      "cell_type": "code",
      "metadata": {
        "id": "GjFHVszQm7-Y",
        "colab_type": "code",
        "colab": {
          "base_uri": "https://localhost:8080/",
          "height": 51
        },
        "outputId": "16fec98b-c03a-4491-81fb-22d76f4eec8b"
      },
      "source": [
        "# Extract Dimensions of input\n",
        "(img_count, col, rows) = test_images_original.shape\n",
        "\n",
        "#Get index of the first Non-Zero pixels in the image\n",
        "(img_index, col_of_positives, rows_of_positives)= np.where(test_images_original > 0)\n",
        "\n",
        "#initialize empty feature vectors\n",
        "test_height = np.array([])\n",
        "test_width = np.array([])\n",
        "\n",
        "#Set Empty Progress Bar \n",
        "out = display(progress(0, 100), display_id=True)\n",
        "\n",
        "#loop thru all images\n",
        "for i in range(img_count):\n",
        "  out.update(progress(i, img_count))\n",
        "\n",
        "  #extract all images from mixed matrix\n",
        "  img = np.where(img_index == i)[0]\n",
        "\n",
        "  #calculate height and width of digit by substracting the \n",
        "  #first and last non-white pixel horizontaly and vertically, \n",
        "  #then add one for the index 0 offset\n",
        "  test_height = np.append(test_height,  col_of_positives[img[-1]] - col_of_positives[img[0]] + 1)\n",
        "  test_width = np.append(test_width, rows_of_positives[img[-1]] - rows_of_positives[img[0]] + 1)\n",
        "\n",
        "#Re-shape vectors to be be compatible for concatenation with the dataset\n",
        "test_height = test_height.reshape(img_count, 1)\n",
        "test_width = test_width.reshape(img_count, 1)\n",
        "print(test_height.shape)"
      ],
      "execution_count": 9,
      "outputs": [
        {
          "output_type": "display_data",
          "data": {
            "text/html": [
              "\n",
              "        <progress\n",
              "            value='9999'\n",
              "            max='10000',\n",
              "            style='width: 100%'\n",
              "        >\n",
              "            9999\n",
              "        </progress>\n",
              "    "
            ],
            "text/plain": [
              "<IPython.core.display.HTML object>"
            ]
          },
          "metadata": {
            "tags": []
          }
        },
        {
          "output_type": "stream",
          "text": [
            "(10000, 1)\n"
          ],
          "name": "stdout"
        }
      ]
    },
    {
      "cell_type": "markdown",
      "metadata": {
        "id": "V01ikCVa-owF",
        "colab_type": "text"
      },
      "source": [
        "###Adding Handcrafted Feature to the data"
      ]
    },
    {
      "cell_type": "markdown",
      "metadata": {
        "id": "t4NoCI9WoIc_",
        "colab_type": "text"
      },
      "source": [
        "####Train Dataset"
      ]
    },
    {
      "cell_type": "code",
      "metadata": {
        "id": "LmFp5vBSuauM",
        "colab_type": "code",
        "colab": {
          "base_uri": "https://localhost:8080/",
          "height": 136
        },
        "outputId": "b40d0e98-e18f-4875-9365-a696fcf0db21"
      },
      "source": [
        "print(train_images.shape)\n",
        "print(\"+\")\n",
        "print(train_height.shape)\n",
        "print(\"+\")\n",
        "print(train_width.shape)\n",
        "\n",
        "#add the 2 new features to the end of the flatten image vector of the train dataset\n",
        "train_images = np.concatenate((train_images, train_height), axis = 1)\n",
        "train_images = np.concatenate((train_images, train_width), axis = 1)\n",
        "\n",
        "print(\"=\")\n",
        "print(train_images.shape)"
      ],
      "execution_count": 17,
      "outputs": [
        {
          "output_type": "stream",
          "text": [
            "(60000, 784)\n",
            "+\n",
            "(60000, 1)\n",
            "+\n",
            "(60000, 1)\n",
            "=\n",
            "(60000, 786)\n"
          ],
          "name": "stdout"
        }
      ]
    },
    {
      "cell_type": "markdown",
      "metadata": {
        "id": "8-Wn-w99oNFV",
        "colab_type": "text"
      },
      "source": [
        "####Test Dataset"
      ]
    },
    {
      "cell_type": "code",
      "metadata": {
        "id": "5XTQ1L8unjjs",
        "colab_type": "code",
        "colab": {
          "base_uri": "https://localhost:8080/",
          "height": 136
        },
        "outputId": "44497314-48c8-4162-e6e6-6bd7787a55e5"
      },
      "source": [
        "print(test_images.shape)\n",
        "print(\"+\")\n",
        "print(test_height.shape)\n",
        "print(\"+\")\n",
        "print(test_width.shape)\n",
        "\n",
        "#add the 2 new features to the end of the flatten image vector of the train dataset\n",
        "test_images = np.concatenate((test_images, test_height), axis = 1)\n",
        "test_images = np.concatenate((test_images, test_width), axis = 1)\n",
        "\n",
        "print(\"=\")\n",
        "print(test_images.shape)"
      ],
      "execution_count": 18,
      "outputs": [
        {
          "output_type": "stream",
          "text": [
            "(10000, 784)\n",
            "+\n",
            "(10000, 1)\n",
            "+\n",
            "(10000, 1)\n",
            "=\n",
            "(10000, 786)\n"
          ],
          "name": "stdout"
        }
      ]
    },
    {
      "cell_type": "markdown",
      "metadata": {
        "id": "sxd9FUzUJObc",
        "colab_type": "text"
      },
      "source": [
        "# Categorically Encode the Labels"
      ]
    },
    {
      "cell_type": "code",
      "metadata": {
        "id": "0bLhB_F1JUtp",
        "colab_type": "code",
        "colab": {}
      },
      "source": [
        "from keras.utils import to_categorical\n",
        "\n",
        "train_labels = to_categorical(train_labels_original)\n",
        "test_labels = to_categorical(test_labels_original)"
      ],
      "execution_count": 0,
      "outputs": []
    },
    {
      "cell_type": "markdown",
      "metadata": {
        "id": "IGsRiskeFuiB",
        "colab_type": "text"
      },
      "source": [
        "#Network Architecture"
      ]
    },
    {
      "cell_type": "code",
      "metadata": {
        "id": "EOC5AF_7FnKs",
        "colab_type": "code",
        "colab": {
          "base_uri": "https://localhost:8080/",
          "height": 221
        },
        "outputId": "38fbc84b-0a27-43f1-bcd6-3657cc93b607"
      },
      "source": [
        "model = models.Sequential()\n",
        "\n",
        "#28*28 is the imgSize and +2 for the 2 hancrafted features\n",
        "model.add(layers.Dense(512, activation = tf.nn.relu, input_shape=(28 * 28 + 2,))) #Hidden layer using reLu(x) = max(0,x).\n",
        "model.add(layers.Dense(10, activation = tf.nn.softmax)) #Output layer needs softmax with 10 neurons for One hot encoding\n",
        "model.summary()"
      ],
      "execution_count": 20,
      "outputs": [
        {
          "output_type": "stream",
          "text": [
            "Model: \"sequential_2\"\n",
            "_________________________________________________________________\n",
            "Layer (type)                 Output Shape              Param #   \n",
            "=================================================================\n",
            "dense_3 (Dense)              (None, 512)               402944    \n",
            "_________________________________________________________________\n",
            "dense_4 (Dense)              (None, 10)                5130      \n",
            "=================================================================\n",
            "Total params: 408,074\n",
            "Trainable params: 408,074\n",
            "Non-trainable params: 0\n",
            "_________________________________________________________________\n"
          ],
          "name": "stdout"
        }
      ]
    },
    {
      "cell_type": "markdown",
      "metadata": {
        "id": "-1qkd2LcGyvd",
        "colab_type": "text"
      },
      "source": [
        "#Compiling Model"
      ]
    },
    {
      "cell_type": "code",
      "metadata": {
        "id": "NO50whEnF5xB",
        "colab_type": "code",
        "colab": {}
      },
      "source": [
        "model.compile( optimizer='rmsprop', \n",
        "              loss='categorical_crossentropy', \n",
        "              metrics=['accuracy'])\n",
        "# Other options: optimer='adam', loss='sparse_categorical_crossentropy'"
      ],
      "execution_count": 0,
      "outputs": []
    },
    {
      "cell_type": "markdown",
      "metadata": {
        "id": "xNW68iWkG3Md",
        "colab_type": "text"
      },
      "source": [
        "#Training Model"
      ]
    },
    {
      "cell_type": "code",
      "metadata": {
        "id": "s9kbIUT1GxWp",
        "colab_type": "code",
        "colab": {
          "base_uri": "https://localhost:8080/",
          "height": 513
        },
        "outputId": "b79fd52a-8cef-423b-ca9c-64cdbd863584"
      },
      "source": [
        "epochs = 10\n",
        "history = model.fit(train_images, \n",
        "                    train_labels, \n",
        "                    epochs = epochs,\n",
        "                    batch_size=128, \n",
        "                    validation_data=(test_images, test_labels))"
      ],
      "execution_count": 22,
      "outputs": [
        {
          "output_type": "stream",
          "text": [
            "WARNING:tensorflow:From /usr/local/lib/python3.6/dist-packages/tensorflow_core/python/ops/math_grad.py:1424: where (from tensorflow.python.ops.array_ops) is deprecated and will be removed in a future version.\n",
            "Instructions for updating:\n",
            "Use tf.where in 2.0, which has the same broadcast rule as np.where\n",
            "WARNING:tensorflow:From /usr/local/lib/python3.6/dist-packages/keras/backend/tensorflow_backend.py:1033: The name tf.assign_add is deprecated. Please use tf.compat.v1.assign_add instead.\n",
            "\n",
            "WARNING:tensorflow:From /usr/local/lib/python3.6/dist-packages/keras/backend/tensorflow_backend.py:1020: The name tf.assign is deprecated. Please use tf.compat.v1.assign instead.\n",
            "\n",
            "Train on 60000 samples, validate on 10000 samples\n",
            "Epoch 1/10\n",
            "60000/60000 [==============================] - 3s 55us/step - loss: 0.2943 - acc: 0.9126 - val_loss: 0.1490 - val_acc: 0.9563\n",
            "Epoch 2/10\n",
            "60000/60000 [==============================] - 3s 42us/step - loss: 0.1193 - acc: 0.9640 - val_loss: 0.1174 - val_acc: 0.9638\n",
            "Epoch 3/10\n",
            "60000/60000 [==============================] - 2s 40us/step - loss: 0.0781 - acc: 0.9759 - val_loss: 0.0782 - val_acc: 0.9758\n",
            "Epoch 4/10\n",
            "60000/60000 [==============================] - 3s 42us/step - loss: 0.0557 - acc: 0.9828 - val_loss: 0.0833 - val_acc: 0.9727\n",
            "Epoch 5/10\n",
            "60000/60000 [==============================] - 2s 41us/step - loss: 0.0434 - acc: 0.9868 - val_loss: 0.0674 - val_acc: 0.9810\n",
            "Epoch 6/10\n",
            "60000/60000 [==============================] - 2s 41us/step - loss: 0.0335 - acc: 0.9899 - val_loss: 0.0661 - val_acc: 0.9814\n",
            "Epoch 7/10\n",
            "60000/60000 [==============================] - 3s 43us/step - loss: 0.0262 - acc: 0.9922 - val_loss: 0.0669 - val_acc: 0.9814\n",
            "Epoch 8/10\n",
            "60000/60000 [==============================] - 3s 43us/step - loss: 0.0214 - acc: 0.9936 - val_loss: 0.0644 - val_acc: 0.9816\n",
            "Epoch 9/10\n",
            "60000/60000 [==============================] - 2s 41us/step - loss: 0.0160 - acc: 0.9954 - val_loss: 0.0658 - val_acc: 0.9819\n",
            "Epoch 10/10\n",
            "60000/60000 [==============================] - 3s 42us/step - loss: 0.0132 - acc: 0.9962 - val_loss: 0.0751 - val_acc: 0.9797\n"
          ],
          "name": "stdout"
        }
      ]
    },
    {
      "cell_type": "markdown",
      "metadata": {
        "id": "M37dpY2lHhzr",
        "colab_type": "text"
      },
      "source": [
        "#Visualization"
      ]
    },
    {
      "cell_type": "markdown",
      "metadata": {
        "id": "vEm-BoXwHlu0",
        "colab_type": "text"
      },
      "source": [
        "### Training and Test Loss"
      ]
    },
    {
      "cell_type": "code",
      "metadata": {
        "id": "gOn5yrOWADkt",
        "colab_type": "code",
        "colab": {}
      },
      "source": [
        "history_dict = history.history\n",
        "loss_values = history_dict['loss']\n",
        "test_loss_values = history_dict['val_loss']\n",
        "epochs_range = range(1, epochs + 1)"
      ],
      "execution_count": 0,
      "outputs": []
    },
    {
      "cell_type": "code",
      "metadata": {
        "id": "QiXl70I6HKiZ",
        "colab_type": "code",
        "colab": {
          "base_uri": "https://localhost:8080/",
          "height": 295
        },
        "outputId": "aa338b57-7e2a-49cf-bd6b-b2468c0f5cee"
      },
      "source": [
        "plt.plot(epochs_range, loss_values, 'bo', label='Training loss')\n",
        "plt.plot(epochs_range, test_loss_values, 'ro', label='Test loss')\n",
        "plt.title('Training and test loss')\n",
        "plt.xlabel('Epochs')\n",
        "plt.ylabel('Loss')\n",
        "plt.legend()\n",
        "plt.show()"
      ],
      "execution_count": 24,
      "outputs": [
        {
          "output_type": "display_data",
          "data": {
            "image/png": "[encoded data removed]",
            "text/plain": [
              "<Figure size 432x288 with 1 Axes>"
            ]
          },
          "metadata": {
            "tags": []
          }
        }
      ]
    },
    {
      "cell_type": "markdown",
      "metadata": {
        "id": "24eprpA9HtIJ",
        "colab_type": "text"
      },
      "source": [
        "### Training and Test Accuracy"
      ]
    },
    {
      "cell_type": "code",
      "metadata": {
        "id": "QbM2JHlPHz3x",
        "colab_type": "code",
        "colab": {}
      },
      "source": [
        "acc_values = history_dict['acc']\n",
        "test_acc_values = history_dict['val_acc']"
      ],
      "execution_count": 0,
      "outputs": []
    },
    {
      "cell_type": "code",
      "metadata": {
        "id": "c-0DtK59H1mF",
        "colab_type": "code",
        "colab": {
          "base_uri": "https://localhost:8080/",
          "height": 295
        },
        "outputId": "e966577e-5fc2-468f-de0a-c1f20feaa3e6"
      },
      "source": [
        "plt.plot(epochs_range, acc_values, 'bo', label='Training accuracy')\n",
        "plt.plot(epochs_range, test_acc_values, 'ro', label='Test accuracy')\n",
        "plt.title('Training and test accuracy')\n",
        "plt.xlabel('Epochs')\n",
        "plt.ylabel('Accuracy')\n",
        "plt.legend()\n",
        "plt.show()"
      ],
      "execution_count": 26,
      "outputs": [
        {
          "output_type": "display_data",
          "data": {
            "image/png": "[encoded data removed]",
            "text/plain": [
              "<Figure size 432x288 with 1 Axes>"
            ]
          },
          "metadata": {
            "tags": []
          }
        }
      ]
    },
    {
      "cell_type": "markdown",
      "metadata": {
        "id": "2BqAM3snBaY5",
        "colab_type": "text"
      },
      "source": [
        "##Save Model"
      ]
    },
    {
      "cell_type": "code",
      "metadata": {
        "id": "kL7Jweg0BMHv",
        "colab_type": "code",
        "colab": {}
      },
      "source": [
        "model.save('Mnist_Height_Width.hw2')"
      ],
      "execution_count": 0,
      "outputs": []
    },
    {
      "cell_type": "markdown",
      "metadata": {
        "id": "t4QxZYRYBgQg",
        "colab_type": "text"
      },
      "source": [
        "##Load Model"
      ]
    },
    {
      "cell_type": "code",
      "metadata": {
        "id": "GHnx_Yt8Bina",
        "colab_type": "code",
        "colab": {
          "base_uri": "https://localhost:8080/",
          "height": 88
        },
        "outputId": "e07577d5-bc1f-4bd5-909b-adc529c03168"
      },
      "source": [
        "old_model = tf.keras.models.load_model('Mnist_Height_Width.hw2')"
      ],
      "execution_count": 28,
      "outputs": [
        {
          "output_type": "stream",
          "text": [
            "WARNING:tensorflow:From /usr/local/lib/python3.6/dist-packages/tensorflow_core/python/ops/resource_variable_ops.py:1630: calling BaseResourceVariable.__init__ (from tensorflow.python.ops.resource_variable_ops) with constraint is deprecated and will be removed in a future version.\n",
            "Instructions for updating:\n",
            "If using Keras pass *_constraint arguments to layers.\n"
          ],
          "name": "stdout"
        }
      ]
    },
    {
      "cell_type": "markdown",
      "metadata": {
        "id": "dR_PmaukUaAW",
        "colab_type": "text"
      },
      "source": [
        "#Missclassified digits"
      ]
    },
    {
      "cell_type": "code",
      "metadata": {
        "id": "nWVYRBlLB5nK",
        "colab_type": "code",
        "colab": {
          "base_uri": "https://localhost:8080/",
          "height": 34
        },
        "outputId": "f8715074-6927-4741-a855-2a0bb279597d"
      },
      "source": [
        "predictions = old_model.predict([test_images])\n",
        "predictions = np.argmax(predictions, axis=1) \n",
        "predictions = predictions.astype('uint8')\n",
        "predictions"
      ],
      "execution_count": 29,
      "outputs": [
        {
          "output_type": "execute_result",
          "data": {
            "text/plain": [
              "array([7, 2, 1, ..., 4, 5, 6], dtype=uint8)"
            ]
          },
          "metadata": {
            "tags": []
          },
          "execution_count": 29
        }
      ]
    },
    {
      "cell_type": "code",
      "metadata": {
        "id": "MMV4oFHfLlH7",
        "colab_type": "code",
        "colab": {
          "base_uri": "https://localhost:8080/",
          "height": 34
        },
        "outputId": "0151c59e-0317-4abd-fad8-90a5b565bb5a"
      },
      "source": [
        "wrong_indices = [i for i in range(10000) if predictions[i] != test_labels_original[i]]\n",
        "# The quantity below is equal to the test accuracy reported by the network fit method.\n",
        "1.0 - len(wrong_indices) / 10000.0"
      ],
      "execution_count": 30,
      "outputs": [
        {
          "output_type": "execute_result",
          "data": {
            "text/plain": [
              "0.9797"
            ]
          },
          "metadata": {
            "tags": []
          },
          "execution_count": 30
        }
      ]
    },
    {
      "cell_type": "code",
      "metadata": {
        "id": "D9bXY9rUL5B1",
        "colab_type": "code",
        "colab": {
          "base_uri": "https://localhost:8080/",
          "height": 1000
        },
        "outputId": "65a36d3b-20b5-401d-f928-c64bf370f49a"
      },
      "source": [
        "# This show the ith misclassified digit. \n",
        "numImages = 10\n",
        "for i in range(10):\n",
        "  wrong_index = wrong_indices[(int)(i * len(wrong_indices) / 10)]\n",
        "  print(\"Predicted \")\n",
        "  print(predictions[wrong_index])\n",
        "  print(\"True label \")\n",
        "  print(test_labels_original[wrong_index])\n",
        "  plt.imshow(test_images_original[wrong_index], cmap = plt.cm.binary)\n",
        "  plt.show()"
      ],
      "execution_count": 31,
      "outputs": [
        {
          "output_type": "stream",
          "text": [
            "Predicted \n",
            "9\n",
            "True label \n",
            "4\n"
          ],
          "name": "stdout"
        },
        {
          "output_type": "display_data",
          "data": {
            "image/png": "[encoded data removed]",
            "text/plain": [
              "<Figure size 432x288 with 1 Axes>"
            ]
          },
          "metadata": {
            "tags": []
          }
        },
        {
          "output_type": "stream",
          "text": [
            "Predicted \n",
            "5\n",
            "True label \n",
            "6\n"
          ],
          "name": "stdout"
        },
        {
          "output_type": "display_data",
          "data": {
            "image/png": "[encoded data removed]",
            "text/plain": [
              "<Figure size 432x288 with 1 Axes>"
            ]
          },
          "metadata": {
            "tags": []
          }
        },
        {
          "output_type": "stream",
          "text": [
            "Predicted \n",
            "7\n",
            "True label \n",
            "8\n"
          ],
          "name": "stdout"
        },
        {
          "output_type": "display_data",
          "data": {
            "image/png": "[encoded data removed]",
            "text/plain": [
              "<Figure size 432x288 with 1 Axes>"
            ]
          },
          "metadata": {
            "tags": []
          }
        },
        {
          "output_type": "stream",
          "text": [
            "Predicted \n",
            "9\n",
            "True label \n",
            "7\n"
          ],
          "name": "stdout"
        },
        {
          "output_type": "display_data",
          "data": {
            "image/png": "[encoded data removed]",
            "text/plain": [
              "<Figure size 432x288 with 1 Axes>"
            ]
          },
          "metadata": {
            "tags": []
          }
        },
        {
          "output_type": "stream",
          "text": [
            "Predicted \n",
            "1\n",
            "True label \n",
            "6\n"
          ],
          "name": "stdout"
        },
        {
          "output_type": "display_data",
          "data": {
            "image/png": "[encoded data removed]",
            "text/plain": [
              "<Figure size 432x288 with 1 Axes>"
            ]
          },
          "metadata": {
            "tags": []
          }
        },
        {
          "output_type": "stream",
          "text": [
            "Predicted \n",
            "5\n",
            "True label \n",
            "8\n"
          ],
          "name": "stdout"
        },
        {
          "output_type": "display_data",
          "data": {
            "image/png": "[encoded data removed]",
            "text/plain": [
              "<Figure size 432x288 with 1 Axes>"
            ]
          },
          "metadata": {
            "tags": []
          }
        },
        {
          "output_type": "stream",
          "text": [
            "Predicted \n",
            "3\n",
            "True label \n",
            "2\n"
          ],
          "name": "stdout"
        },
        {
          "output_type": "display_data",
          "data": {
            "image/png": "[encoded data removed]",
            "text/plain": [
              "<Figure size 432x288 with 1 Axes>"
            ]
          },
          "metadata": {
            "tags": []
          }
        },
        {
          "output_type": "stream",
          "text": [
            "Predicted \n",
            "8\n",
            "True label \n",
            "1\n"
          ],
          "name": "stdout"
        },
        {
          "output_type": "display_data",
          "data": {
            "image/png": "[encoded data removed]",
            "text/plain": [
              "<Figure size 432x288 with 1 Axes>"
            ]
          },
          "metadata": {
            "tags": []
          }
        },
        {
          "output_type": "stream",
          "text": [
            "Predicted \n",
            "5\n",
            "True label \n",
            "0\n"
          ],
          "name": "stdout"
        },
        {
          "output_type": "display_data",
          "data": {
            "image/png": "[encoded data removed]",
            "text/plain": [
              "<Figure size 432x288 with 1 Axes>"
            ]
          },
          "metadata": {
            "tags": []
          }
        },
        {
          "output_type": "stream",
          "text": [
            "Predicted \n",
            "2\n",
            "True label \n",
            "0\n"
          ],
          "name": "stdout"
        },
        {
          "output_type": "display_data",
          "data": {
            "image/png": "[encoded data removed]",
            "text/plain": [
              "<Figure size 432x288 with 1 Axes>"
            ]
          },
          "metadata": {
            "tags": []
          }
        }
      ]
    }
  ]
}