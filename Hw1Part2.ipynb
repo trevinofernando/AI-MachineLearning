{
  "nbformat": 4,
  "nbformat_minor": 0,
  "metadata": {
    "colab": {
      "name": "Hw1Part2.ipynb",
      "provenance": [],
      "collapsed_sections": [],
      "include_colab_link": true
    },
    "kernelspec": {
      "name": "python3",
      "display_name": "Python 3"
    }
  },
  "cells": [
    {
      "cell_type": "markdown",
      "metadata": {
        "id": "view-in-github",
        "colab_type": "text"
      },
      "source": [
        "<a href=\"https://colab.research.google.com/github/trevinofernando/AI-MachineLearning/blob/master/Hw1Part2.ipynb\" target=\"_parent\"><img src=\"https://colab.research.google.com/assets/colab-badge.svg\" alt=\"Open In Colab\"/></a>"
      ]
    },
    {
      "cell_type": "code",
      "metadata": {
        "id": "l5rq92V7ObHs",
        "colab_type": "code",
        "colab": {}
      },
      "source": [
        "%matplotlib inline\n",
        "import matplotlib as mpl\n",
        "import matplotlib.pyplot as plt\n",
        "mpl.rc('axes', labelsize=14)\n",
        "mpl.rc('xtick', labelsize=12)\n",
        "mpl.rc('ytick', labelsize=12)"
      ],
      "execution_count": 0,
      "outputs": []
    },
    {
      "cell_type": "code",
      "metadata": {
        "id": "B4VTPpXkOhds",
        "colab_type": "code",
        "colab": {}
      },
      "source": [
        "import numpy as np\n",
        "np.random.seed(42)\n",
        "realW1 = 3\n",
        "realW2 = 5\n",
        "realB = 4\n",
        "\n",
        "x1s = 2 * np.random.rand(100, 1)\n",
        "x2s = 3 * np.random.rand(100, 1)\n",
        "ys = realB + realW1 * x1s + realW2 * x2s + np.random.rand(100, 1) "
      ],
      "execution_count": 0,
      "outputs": []
    },
    {
      "cell_type": "code",
      "metadata": {
        "id": "PlhVE5hJSbsy",
        "colab_type": "code",
        "outputId": "2d433cc5-8820-4ca3-fcdd-67df4a0ec807",
        "colab": {
          "base_uri": "https://localhost:8080/",
          "height": 573
        }
      },
      "source": [
        "plt.plot(x1s, ys - realW2 * x2s, \"b.\")\n",
        "plt.xlabel(\"$x_1$\", fontsize=18)\n",
        "plt.ylabel(\"$y$\", rotation=0, fontsize=18)\n",
        "plt.axis([0, 3, 0, 50])\n",
        "plt.show()\n",
        "\n",
        "plt.plot(x2s, ys - realW1 * x1s, \"b.\")\n",
        "plt.xlabel(\"$x_1$\", fontsize=18)\n",
        "plt.ylabel(\"$y$\", rotation=0, fontsize=18)\n",
        "plt.axis([0, 3, 0, 50])\n",
        "plt.show()"
      ],
      "execution_count": 0,
      "outputs": [
        {
          "output_type": "display_data",
          "data": {
            "image/png": "[encoded data removed]",
            "text/plain": [
              "<Figure size 432x288 with 1 Axes>"
            ]
          },
          "metadata": {
            "tags": []
          }
        },
        {
          "output_type": "display_data",
          "data": {
            "image/png": "[encoded data removed]",
            "text/plain": [
              "<Figure size 432x288 with 1 Axes>"
            ]
          },
          "metadata": {
            "tags": []
          }
        }
      ]
    },
    {
      "cell_type": "code",
      "metadata": {
        "id": "9WIBehqmUXeM",
        "colab_type": "code",
        "colab": {}
      },
      "source": [
        "# split the data into training and test sets\n",
        "# train set\n",
        "train_x1s = x1s[:80]\n",
        "train_x2s = x2s[:80]\n",
        "train_ys = ys[:80]\n",
        "# test set\n",
        "test_x1s = x1s[80:]\n",
        "test_x2s = x2s[80:]\n",
        "test_ys = ys[80:]\n"
      ],
      "execution_count": 0,
      "outputs": []
    },
    {
      "cell_type": "markdown",
      "metadata": {
        "id": "wq5R9tfxOlK6",
        "colab_type": "text"
      },
      "source": [
        "# Linear regression using numpy\n"
      ]
    },
    {
      "cell_type": "code",
      "metadata": {
        "id": "V7S2Rljr4gBI",
        "colab_type": "code",
        "colab": {}
      },
      "source": [
        "# number of epochs\n",
        "epochs = 10\n",
        "# learning rate\n",
        "lr = 0.01"
      ],
      "execution_count": 0,
      "outputs": []
    },
    {
      "cell_type": "code",
      "metadata": {
        "id": "gpUiggnZ35PN",
        "colab_type": "code",
        "colab": {}
      },
      "source": [
        "# initial value for weight w and bias b\n",
        "w1 = np.random.randn(1)\n",
        "w2 = np.random.randn(1)\n",
        "b = np.zeros(1)"
      ],
      "execution_count": 0,
      "outputs": []
    },
    {
      "cell_type": "code",
      "metadata": {
        "id": "ia_EGxHl4WNT",
        "colab_type": "code",
        "colab": {}
      },
      "source": [
        "for epoch in np.arange(epochs):\n",
        "  for i in np.arange(80):\n",
        "    y_pred = w1 * train_x1s[i] + w2 * train_x2s[i] + b\n",
        "    \n",
        "    grad_w1 = (y_pred - train_ys[i]) * train_x1s[i]\n",
        "    grad_w2 = (y_pred - train_ys[i]) * train_x2s[i]\n",
        "    grad_b = (y_pred - train_ys[i])\n",
        "    \n",
        "    w1 -= lr * grad_w1\n",
        "    w2 -= lr * grad_w2\n",
        "    b -= lr * grad_b"
      ],
      "execution_count": 0,
      "outputs": []
    },
    {
      "cell_type": "code",
      "metadata": {
        "id": "ouGCs5h0Vb7j",
        "colab_type": "code",
        "colab": {}
      },
      "source": [
        "test_loss = 0\n",
        "for i in np.arange(20):\n",
        "  test_loss += 0.5 * (w1 * test_x1s[i] + w2 * test_x2s[i] + b - test_ys[i]) ** 2\n",
        "test_loss /= 20"
      ],
      "execution_count": 0,
      "outputs": []
    },
    {
      "cell_type": "code",
      "metadata": {
        "id": "ceyzFn1sVtb8",
        "colab_type": "code",
        "outputId": "07d71242-0572-4e9c-8ae1-eae2c8d2d271",
        "colab": {
          "base_uri": "https://localhost:8080/",
          "height": 34
        }
      },
      "source": [
        "test_loss"
      ],
      "execution_count": 0,
      "outputs": [
        {
          "output_type": "execute_result",
          "data": {
            "text/plain": [
              "array([0.05728981])"
            ]
          },
          "metadata": {
            "tags": []
          },
          "execution_count": 113
        }
      ]
    },
    {
      "cell_type": "code",
      "metadata": {
        "id": "OagpMGGUVw5k",
        "colab_type": "code",
        "colab": {}
      },
      "source": [
        "pred_ys = w1 * test_x1s + w2 * test_x2s + b"
      ],
      "execution_count": 0,
      "outputs": []
    },
    {
      "cell_type": "code",
      "metadata": {
        "id": "QS4IdviyXBac",
        "colab_type": "code",
        "outputId": "71a7dce5-e470-4cf2-90e3-28877f87cbc8",
        "colab": {
          "base_uri": "https://localhost:8080/",
          "height": 573
        }
      },
      "source": [
        "#By subtracting the \"realW2 * test_x2s\", we are ignoring one axis and looking at the 3d plane in an angle such that we see a straight line \n",
        "plt.plot(test_x1s, test_ys - realW2 * test_x2s, \"b.\")\n",
        "plt.plot(test_x1s, pred_ys - realW2 * test_x2s, \"r.\") # predicted values\n",
        "plt.xlabel(\"$x_1$\", fontsize=18)\n",
        "plt.ylabel(\"$y$\", rotation=0, fontsize=18)\n",
        "plt.axis([0, 3, 0, 30])\n",
        "plt.show()\n",
        "\n",
        "plt.plot(test_x2s, test_ys - realW1 * test_x1s, \"b.\")\n",
        "plt.plot(test_x2s, pred_ys - realW1 * test_x1s, \"r.\") # predicted values\n",
        "plt.xlabel(\"$x_1$\", fontsize=18)\n",
        "plt.ylabel(\"$y$\", rotation=0, fontsize=18)\n",
        "plt.axis([0, 3, 0, 30])\n",
        "plt.show()"
      ],
      "execution_count": 0,
      "outputs": [
        {
          "output_type": "display_data",
          "data": {
            "image/png": "[encoded data removed]",
            "text/plain": [
              "<Figure size 432x288 with 1 Axes>"
            ]
          },
          "metadata": {
            "tags": []
          }
        },
        {
          "output_type": "display_data",
          "data": {
            "image/png": "[encoded data removed]",
            "text/plain": [
              "<Figure size 432x288 with 1 Axes>"
            ]
          },
          "metadata": {
            "tags": []
          }
        }
      ]
    },
    {
      "cell_type": "code",
      "metadata": {
        "id": "bG_ZQa2_X4o9",
        "colab_type": "code",
        "outputId": "4d0a30e9-d844-42bc-f344-601a6a42f37d",
        "colab": {
          "base_uri": "https://localhost:8080/",
          "height": 85
        }
      },
      "source": [
        "print(\"b found: \")\n",
        "print(b[0])\n",
        "print(\"Real b: \")\n",
        "print(realB)"
      ],
      "execution_count": 0,
      "outputs": [
        {
          "output_type": "stream",
          "text": [
            "b found: \n",
            "4.233884865955264\n",
            "Real b: \n",
            "4\n"
          ],
          "name": "stdout"
        }
      ]
    },
    {
      "cell_type": "code",
      "metadata": {
        "id": "YNsGzVF0hMW9",
        "colab_type": "code",
        "outputId": "42e7bbc5-6c34-4bad-ad87-1d0f545340b5",
        "colab": {
          "base_uri": "https://localhost:8080/",
          "height": 85
        }
      },
      "source": [
        "print(\"w1 found: \")\n",
        "print(w1[0])\n",
        "print(\"Real w1: \")\n",
        "print(realW1)\n"
      ],
      "execution_count": 0,
      "outputs": [
        {
          "output_type": "stream",
          "text": [
            "w1 found: \n",
            "3.1714177381933806\n",
            "Real w1: \n",
            "3\n"
          ],
          "name": "stdout"
        }
      ]
    },
    {
      "cell_type": "code",
      "metadata": {
        "id": "472UYfbXha8U",
        "colab_type": "code",
        "outputId": "8536efce-225c-4af5-99ca-3c67f6e793a6",
        "colab": {
          "base_uri": "https://localhost:8080/",
          "height": 85
        }
      },
      "source": [
        "print(\"w1 found: \")\n",
        "print(w2[0])\n",
        "print(\"Real w1: \")\n",
        "print(realW2)"
      ],
      "execution_count": 0,
      "outputs": [
        {
          "output_type": "stream",
          "text": [
            "w1 found: \n",
            "5.1089648892066855\n",
            "Real w1: \n",
            "5\n"
          ],
          "name": "stdout"
        }
      ]
    }
  ]
}